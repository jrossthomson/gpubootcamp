{
  "nbformat": 4,
  "nbformat_minor": 0,
  "metadata": {
    "kernelspec": {
      "display_name": "Python 3",
      "language": "python",
      "name": "python3"
    },
    "language_info": {
      "codemirror_mode": {
        "name": "ipython",
        "version": 3
      },
      "file_extension": ".py",
      "mimetype": "text/x-python",
      "name": "python",
      "nbconvert_exporter": "python",
      "pygments_lexer": "ipython3",
      "version": "3.6.2"
    },
    "colab": {
      "name": "16July21 Tropical_Cyclone_Intensity_Estimation.ipynb",
      "provenance": [],
      "collapsed_sections": [],
      "toc_visible": true
    },
    "accelerator": "GPU"
  },
  "cells": [
    {
      "cell_type": "markdown",
      "metadata": {
        "id": "MFR60TL0dUFB"
      },
      "source": [
        "# Welcome to HPC / AI workshop\n",
        "\n",
        "   <a target=\"_blank\" href=\"https://colab.research.google.com/github/jrossthomson/gpubootcamp/blob/master/hpc_ai/ai_science_climate/English/python/jupyter_notebook/Tropical_Cyclone_Intensity_Estimation.ipynb\"><img src=\"https://quantumai.google/site-assets/images/buttons/colab_logo_1x.png\" />Run this notebook in Google Colab</a>\n",
        "   \n",
        "\n",
        "## Technical Objectives\n",
        "\n",
        "The objective of this workshop is to give an introduction to application of Artificial Intelligence (AI) algorithms in scientific High Performance Computing (HPC) simulations. This workshop will introduce participants to fundamentals of AI and how those can be applied to different HPC simulation domains. \n",
        "\n",
        "## Getting started\n",
        "\n",
        "This notebook is easiest to run in Google Colab, but it will work on any Jupyter notebook environment where a GPU can be connected. \n",
        "\n",
        "### Running Colab\n",
        "\n",
        "If you want some extra help getting started with \n",
        "Google Colab, the following provides an introduction: \n",
        "[Welcome To Colaboratory](https://colab.sandbox.google.com/notebooks/intro.ipynb?utm_source=scs-index). \n",
        "However, if you are at all familiar with Jupyter Notebooks, the link below will get you started.\n",
        "\n",
        "   <a target=\"_blank\" href=\"https://colab.research.google.com/github/jrossthomson/gpubootcamp/blob/master/hpc_ai/ai_science_climate/English/python/jupyter_notebook/Tropical_Cyclone_Intensity_Estimation.ipynb\"><img src=\"https://quantumai.google/site-assets/images/buttons/colab_logo_1x.png\" />Run this notebook in Google Colab</a>\n",
        " \n",
        " ### Gmail account\n",
        " \n",
        "__Important__ : You will need a Gmail account to run the notebook on Golab and to save your notebook on Google Drive. [This is where you can create a Gmail account.](https://support.google.com/mail/answer/56256?hl=en)\n",
        "\n",
        "### CNN background\n",
        "\n",
        "If you are completely unfamiliar with Neural Networks (NN) or Machine Learning (ML) this tutorial can be a great introduction:\n",
        "\n",
        "- [CNN Primer and Keras 101](Intro_to_DL/Part_2.ipynb))"
      ]
    },
    {
      "cell_type": "markdown",
      "metadata": {
        "id": "IjH7JVRpP-4Z"
      },
      "source": [
        "# Get the Git Repo\n",
        "**IMPORTANT** To get most of the data for this workshop, you need to clone the Git repo locally.\n",
        "\n",
        "Another piece of data is the partially trained model data in `trained_16.h5`"
      ]
    },
    {
      "cell_type": "code",
      "metadata": {
        "id": "5I0_6_14gdGI",
        "colab": {
          "base_uri": "https://localhost:8080/"
        },
        "outputId": "2864d663-eeb7-4fec-85f4-cc9722f68985"
      },
      "source": [
        "!git clone https://github.com/jrossthomson/gpubootcamp.git\n",
        "!wget https://storage.googleapis.com/gpubootcamp_tcdata/trained_16.h5"
      ],
      "execution_count": null,
      "outputs": [
        {
          "output_type": "stream",
          "text": [
            "Cloning into 'gpubootcamp'...\n",
            "remote: Enumerating objects: 35303, done.\u001b[K\n",
            "remote: Counting objects: 100% (2538/2538), done.\u001b[K\n",
            "remote: Compressing objects: 100% (1603/1603), done.\u001b[K\n",
            "remote: Total 35303 (delta 866), reused 2479 (delta 831), pack-reused 32765\u001b[K\n",
            "Receiving objects: 100% (35303/35303), 1.18 GiB | 15.13 MiB/s, done.\n",
            "Resolving deltas: 100% (868/868), done.\n",
            "Checking out files: 100% (33719/33719), done.\n"
          ],
          "name": "stdout"
        }
      ]
    },
    {
      "cell_type": "markdown",
      "metadata": {
        "id": "QUOrybpeewrz"
      },
      "source": [
        "# System check\n",
        "\n",
        "Before moving forward let us check if Tensorflow backend is able to see and use GPU There are a few things to check before proceding with the tutorial.\n",
        "\n",
        "* Do you have a GPU Running on the Colab\n",
        "* Which version of TensorFlow do you have runningU"
      ]
    },
    {
      "cell_type": "code",
      "metadata": {
        "id": "BJpWlWn2dUFD",
        "colab": {
          "base_uri": "https://localhost:8080/"
        },
        "outputId": "8aba5e6f-4c53-4c95-ddfb-ea74290ad5f4"
      },
      "source": [
        "# Import Necessary Libraries\n",
        "\n",
        "from __future__ import absolute_import, division, print_function, unicode_literals\n",
        "\n",
        "# TensorFlow and tf.keras\n",
        "import tensorflow as tf\n",
        "from tensorflow import keras\n",
        "\n",
        "# Helper libraries\n",
        "import numpy as np\n",
        "import matplotlib.pyplot as plt\n",
        "\n",
        "print(tf.__version__)\n",
        "\n",
        "\n",
        "print(tf.test.gpu_device_name())\n",
        "\n",
        "!nvidia-smi -L"
      ],
      "execution_count": null,
      "outputs": [
        {
          "output_type": "stream",
          "text": [
            "2.5.0\n",
            "/device:GPU:0\n",
            "GPU 0: Tesla P100-PCIE-16GB (UUID: GPU-474d564b-f4e5-0488-4ca6-7ae2ca02806a)\n"
          ],
          "name": "stdout"
        }
      ]
    },
    {
      "cell_type": "markdown",
      "metadata": {
        "id": "rNcgF4QQdUFE"
      },
      "source": [
        "The output of the cell above will show all the available compaitable GPU on the system. If no GPU device is listed or you see an error means that there was no compaitable GPU present on the system and the future calls may run on CPU consuming more time\n",
        "\n",
        "### To enable GPUs in Colab\n",
        "\n",
        "On the Colab menu, \"Edit\" -> \"Notebook Settings\", a pop up will allow you to select a GPU runtime."
      ]
    },
    {
      "cell_type": "markdown",
      "metadata": {
        "id": "VU14NLU_QpJa"
      },
      "source": [
        "\n",
        "\n",
        "---\n",
        "\n",
        "# PART 1"
      ]
    },
    {
      "cell_type": "markdown",
      "metadata": {
        "id": "0eKeu7ckdUFF"
      },
      "source": [
        "# Tropical cyclone intensity estimation using a Deep Convolutional Neural Network \n",
        "\n",
        "\n",
        "*Tropical cyclone intensity estimation is a challenging task as it requires domain knowledge while extracting\n",
        "features, significant pre-processing, various sets of parameters obtained from satellites, and human intervention for analysis.*\n",
        "\n",
        "*The inconsistency of results, significant pre-processing of data, the complexity of the problem domain, and problems on generalizability are some of the issues related to intensity estimation. In this Jupyter Notebook, we run a deep convolutional neural network architecture for categorizing hurricanes based on intensity using graphics\n",
        "processing unit.*\n",
        "\n",
        "*This Jupyter Notebook is a recreation of the Research Paper titled **\" Tropical Cyclone Intensity Estimation Using a Deep Convolutional Neural Network \"** by Ritesh Pradhan, Ramazan S. Aygun, Senior Member, IEEE, Manil Maskey, Member, IEEE, Rahul Ramachandran, Senior Member, IEEE, and Daniel J. Cecil *\n"
      ]
    },
    {
      "cell_type": "markdown",
      "metadata": {
        "id": "PODWpl3fdUFG"
      },
      "source": [
        "## Motivation for the Problem \n",
        "\n",
        "\n",
        "\n",
        "##### Since hurricanes (or tropical cyclones) possess substantial threats and cause significant damage to lives and properties, studying the stages of a hurricane is essential to determine its impact. From a scientific perspective, determining an accurate TC intensity helps. \n",
        "\n",
        "\n",
        "* More accurate historical records of TCs, mainly if a technique can be consistently applied to older satellite imagery (i.e., intensity reanalysis)  \n",
        "\n",
        "* Providing consistent intensity estimates as current intensity estimates are made via a subjective algorithm (Dvorak technique) that is applied inconsistently in different forecast areas. Initial errors are too high, especially for weak and storms that are transitioning in structure.\n",
        "\n",
        "\n",
        "In this example, we use the Saffir-Simpson Hurricane Wind Scale (SSHWS) along with intensity categorization for tropical storm and tropical depression as tropical cyclone (TC) intensity categories.\n",
        "\n",
        "\n",
        "Since TC intensity is based on maximum wind speeds (MWS), estimating the TC intensity by just using image content is a challenging problem. Several techniques utilize satellite imagery for estimating tropical cyclone intensity using Dvorak and deviation-angle variance technique (DAVT) techniques.\n",
        "\n",
        "![alt_text](https://github.com/jrossthomson/gpubootcamp/blob/master/hpc_ai/ai_science_climate/English/python/jupyter_notebook/Tropical_Cyclone_Intensity_Estimation/images/cat+dvat.png?raw=1)\n",
        "\n",
        "### Dvorak Technique : \n",
        "\n",
        "The Dvorak technique is a method using enhanced Infrared and/or visible satellite imagery to quantitatively estimate the intensity of a tropical system. Cloud patterns in satellite imagery normally show an indication of cyclogenesis before the storm reaches tropical storm intensity. Indications of continued development and/or weakening can also be found in the cloud features. Using these features, the pattern formed by the clouds of a tropical cyclone, expected systematic development, and a series of rules, an intensity analysis and forecast can be made.\n",
        "\n",
        "The primary assumption of the Dvorak method is that cyclones with similar intensity tend to have a similar pattern.\n",
        "\n",
        "\n",
        "This Figure shows some development patterns used by the Dvorak technique. Once a pattern is detected over 24 hours, the features such as length and banding from the storm are further analyzed to reach a particular\n",
        "T-number. This relates tropical cloud structures to storm intensity. Nevertheless, this technique is not perfect and still suffers from subjective biases. Due to the inherent limitations of the empirical method used, it cannot determine subtropical cyclone intensity. Today, with the successful application of the Dvorak technique for more than 30 years along with some modifications and improvements, it is used worldwide for TC intensity estimation. The Advanced Dvorak Technique provides a nearly instantaneous estimate of TC intensity objectively. It removes a large amount of the subjectivity inherent in the process and produces errors similar to a human in most cases. But despite these attempts the errors can be high during the initial phase for weak storms that are transitioning in structure. "
      ]
    },
    {
      "cell_type": "markdown",
      "metadata": {
        "id": "RdjXsHmidUFH"
      },
      "source": [
        "**Now that we have understood the need for building a model to eliminate human errors, let us see how to approach the problem** \n"
      ]
    },
    {
      "cell_type": "markdown",
      "metadata": {
        "id": "utzqD1quRI8K"
      },
      "source": [
        "\n",
        "\n",
        "---\n",
        "# PART 2\n"
      ]
    },
    {
      "cell_type": "markdown",
      "metadata": {
        "id": "rlA_-lWHdUFI"
      },
      "source": [
        "# Approaching the Problem\n",
        "\n",
        "During this lab we will be making use of the following buckets to help us understand how a Machine Learning project should be planned and executed: \n",
        "\n",
        "1. **Data**: To start with any ML project we need data which is pre-processed and can be fed into the network.\n",
        "2. **Task**: There are many tasks present in ML, we need to make sure we understand and define the problem statement accurately.\n",
        "3. **Model**: We need to build our model, which is neither too deep or complex, thereby taking a lot of computational power or too small that it could not learn the important features.\n",
        "4. **Loss**: Out of the many _loss functions_ present, we need to carefully choose a _loss function_ which is suitable for the task we are about to carry out.\n",
        "5. **Learning**: As we mentioned in our last notebook, there are a variety of _optimisers_ each with their advantages and disadvantages. So here we choose an _optimiser_ which is suitable for our task and train our model using the set hyperparameters.\n",
        "6. **Evaluation**: This is a crucial step in the process to determine if our model has learnt the features properly by analysing how it performs when unseen data is given to it."
      ]
    },
    {
      "cell_type": "markdown",
      "metadata": {
        "id": "3dnTN3zwdUFI"
      },
      "source": [
        "## Data\n",
        "\n",
        "##### The Image data will be annotated using the Text Data to create our dataset from which the model will learn to classify the type of cyclone.\n",
        "\n",
        "\n",
        "**Optional** : [Downloading Dataset](https://colab.sandbox.google.com/github/jrossthomson/gpubootcamp/blob/master/hpc_ai/ai_science_climate/English/python/jupyter_notebook/Tropical_Cyclone_Intensity_Estimation/Downloading_Images.ipynb)\n",
        "\n",
        "**For the purposes of this lab, you do not need to download the images.**\n",
        "\n",
        "Example of images that will be fed into our model  : \n",
        "\n",
        "<table><tr>\n",
        "<td><img src=\"https://github.com/jrossthomson/gpubootcamp/blob/master/hpc_ai/ai_science_climate/English/python/jupyter_notebook/Tropical_Cyclone_Intensity_Estimation/images/example.jpg?raw=1\" alt=\"Drawing\" style=\"width: 320px;\"/></td>\n",
        "<td><img src=\"https://github.com/jrossthomson/gpubootcamp/blob/master/hpc_ai/ai_science_climate/English/python/jupyter_notebook/Tropical_Cyclone_Intensity_Estimation/images/example1.jpg?raw=1\" alt=\"Drawing\" style=\"width: 320px;\"/></td>\n",
        "</tr>\n",
        "</table>\n",
        "\n",
        "*Source: https://www.nrlmry.navy.mil/*\n",
        "\n",
        "#### Each Image will be annotated to a category of Cyclone Intensity using the text data with the help of the following table :\n",
        "\n",
        "![alt text](https://github.com/jrossthomson/gpubootcamp/blob/master/hpc_ai/ai_science_climate/English/python/jupyter_notebook/Tropical_Cyclone_Intensity_Estimation/images/cat.png?raw=1)"
      ]
    },
    {
      "cell_type": "markdown",
      "metadata": {
        "id": "MNFQyQ7IdUFJ"
      },
      "source": [
        "## Task \n",
        "\n",
        "There are a variety of tasks present in DL, and the task we are about to do is called Multi-class Classification. \n",
        "\n",
        "Here, multiple classes are present, and the model needs to classify the image into the correct class. \n",
        "\n",
        "The Classes here are the intensity of the tropical cyclone which will be estimated using the wind speeds of the cyclone: \n",
        "- NC ( No Category         , $\\leq 20$ knots)\n",
        "- TD ( Tropical Depression , $20-33$ knots)\n",
        "- TS ( Topical Storm       , $34-63$ knots)\n",
        "- H1 ( Category One        , $64-82$ knots)\n",
        "- H2 ( Category Two        , $83-95$ knots)\n",
        "- H3 ( Category Three      , $96-112$ knots)\n",
        "- H4 ( Category Four       , $113-136$ knots)\n",
        "- H5 ( Category Five       , $\\geq 137$ knots)\n",
        "\n",
        "##### Example of Multi-Class Classification is : \n",
        "<img src=\"https://github.com/jrossthomson/gpubootcamp/blob/master/hpc_ai/ai_science_climate/English/python/jupyter_notebook/Tropical_Cyclone_Intensity_Estimation/images/multi_class1.png?raw=1\" alt=\"Drawing\" style=\"width: 520px;\"/></td>\n"
      ]
    },
    {
      "cell_type": "markdown",
      "metadata": {
        "id": "Rar36_qcdUFJ"
      },
      "source": [
        "## Model and Loss \n",
        "\n",
        "#### We will be using the model given in the research paper : \n",
        "\n",
        "The Hyper-parameters in this model ( kernel size, number of hidden layers ) is tailor-made for this project. \n",
        "\n",
        "![alt text](https://github.com/jrossthomson/gpubootcamp/blob/master/hpc_ai/ai_science_climate/English/python/jupyter_notebook/Tropical_Cyclone_Intensity_Estimation/images/model.png?raw=1)\n",
        "\n",
        "\n",
        "### Loss Function :\n",
        "\n",
        "We have seen about three different Multi-class loss function, they are :\n",
        "- *Multi-Class Cross-Entropy Loss*\n",
        "- Sparse Multi-class Cross-Entropy Loss\n",
        "- Kullback Leibler Divergence Loss\n",
        "\n",
        "We will be using the Multi-class Cross-Entropy loss function for this classification. And one can use any of the three loss function for this task.\n",
        "\n",
        "##### Multi-Class Cross-Entropy loss : \n",
        "\n",
        "Before we understand how the loss value is calculated, let us understand how the outputs are produced.\n",
        "\n",
        "When we train our model , we convert all the categories to a array of 1's and 0's. Let us assume we have a model to predict if a given image is a cat or a dog, we will then start labelling all the outputs in our dataset and assign `cat = [ 1 , 0 ]` and `dog = [ 0 , 1 ] ` and we will then train our model based on it, our model will then predict the probabilities of the output of what it thinks it to be, let's say we give it an image of a cat, we get the output to be `[ 0.87 , 0.13]` which implies that the model is 87% confident that it is a cat,but this is still not good enough we then calculate the error in this case with the following equation. \n",
        "\n",
        "$$ Loss = J(w) = - \\frac{1}{N}\\sum_{n=0}^{N} \\left[ y_n \\log{\\hat{y_n}} + (1 - y_n) \\log{(1-\\hat{y_n})}  \\right] $$\n",
        "\n",
        "So ,if we try calculating the loss in our case from the equation , we will try calculating loss value for different values \n",
        "\n",
        "$ Loss = - \\frac{1}{2}\\left[ \\log{0.87} + (1 - 0) \\log{(1 - 0.13)} \\right] = -1 * \\log{0.87} = 0.060 $\n",
        "\n",
        "If our model trained over time and if the output would be `[ 0.90 , 0.10 ]` , then let's calculate our loss again.\n",
        "\n",
        "$ Loss = - \\frac{1}{2}\\left[ \\log{0.90} + (1 - 0) \\log{(1 - 0.10)} \\right] = -1 * \\log{0.90} = 0.045 $\n",
        "\n",
        "So ,now we notice our loss value to have reduced , so using these equations our model learns to understand how it performs and updates the weights to perform better. \n",
        "\n",
        "### Optimizer : \n",
        "\n",
        "In this model, we will be using SGD Optimizer ( Stochastic Gradient Descent ) Optimizer.\n",
        "\n",
        "##### Gradient Descent : \n",
        "\n",
        "Gradient descent is an optimization algorithm used to minimize some function by iteratively moving in the direction of steepest descent as defined by the negative of the gradient. \n",
        "\n",
        "Let us get an insight to understand how gradient descent works :\n",
        "\n",
        "Starting at the top of the mountain, we take our first step downhill in the direction specified by the negative gradient. Next, we recalculate the negative gradient (passing in the coordinates of our new point) and take another step in the direction it specifies. We continue this process iteratively until we get to the bottom of our graph, or to a point where we can no longer move downhill–a local minimum.\n",
        "\n",
        "<td><img src=\"https://github.com/jrossthomson/gpubootcamp/blob/master/hpc_ai/ai_science_climate/English/python/jupyter_notebook/Tropical_Cyclone_Intensity_Estimation/images/grad.jpg?raw=1\" alt=\"Drawing\" style=\"width: 420px;\"/></td>\n",
        "\n",
        "*Source: https://towardsdatascience.com/linear-regression-using-gradient-descent-97a6c8700931*\n",
        "\n",
        "GD runs through all the samples in training set to do a single update for a parameter in a particular iteration. In SGD, on the other hand, you use only one or subset of training sample from your training set to do the update for a parameter in a particular iteration. \n",
        "\n",
        "Using SGD will be faster because only one training sample is used and it starts improving itself right away from the first sample.\n",
        "\n",
        "\n",
        "## Training and Evaluation \n",
        "\n",
        "We will split our dataset into three different sets :\n",
        "\n",
        "- Training Set\n",
        "    - 72 % of the Dataset\n",
        "- Test Set \n",
        "    - 18 % of the Dataset\n",
        "- Validation Set \n",
        "    - 10% of the Dataset \n",
        "\n",
        "You are free to play around with these ratios in the next notebook."
      ]
    },
    {
      "cell_type": "markdown",
      "metadata": {
        "id": "qr4zglyKdUFJ"
      },
      "source": [
        "Summary of our approach : \n",
        "\n",
        "![alt_text](https://github.com/jrossthomson/gpubootcamp/blob/master/hpc_ai/ai_science_climate/English/python/jupyter_notebook/Tropical_Cyclone_Intensity_Estimation/images/now.png?raw=1)\n"
      ]
    },
    {
      "cell_type": "markdown",
      "metadata": {
        "id": "CvdehYxFdUFK"
      },
      "source": [
        "# Working with the Image Dataset \n",
        "\n",
        "The images are downloaded in the 'gs://gpubootcamp_tcdata' Google Cloud Storage public bucket.\n",
        "\n",
        "### To work with the images, we need to understand the hierarchy of the Stored Images : \n",
        "\n",
        "The Hierarchy of this Dataset is similar to that of U.S.Naval Database for storing images, and this has been retained for storing the images as to easily scale / add more features to this.\n",
        "\n",
        "Let's now understand how it is arranged : \n"
      ]
    },
    {
      "cell_type": "raw",
      "metadata": {
        "id": "2VpUh8X7dUFK"
      },
      "source": [
        "<pre>\n",
        "tcdata                                  --> Root Folder\n",
        "└── tcdat                                --> First Nested Folder ( tcdat = tropical cyclone database )\n",
        "    ├── tc04                             --> Second Nested Folder ( tcxx = xx stand for yeah 20xx , tc04 = 2004) \n",
        "    │   └── ATL                          --> Third Nested Folder ( ATL -> Stands for Atlantic Cyclones)\n",
        "    │       ├── 01L.ALEX                 --> Fourth Nested Folder ( Name of the Cyclone)\n",
        "    │       │   └── ir                   --> Fifth Nested Folder ( Type of Image , We will be working with IR only)\n",
        "    │       │       └── geo              --> Sixth Nested Folder\n",
        "    │       │           └── 1km          --> Seventh Nested Folder ( Range of the Image ) \n",
        "                                         --> Images will be contained Here\n",
        "</pre>                                   \n",
        "So, Now we need to make sure we can recurse through this,   for example, we can show all the imags on the Google storage bucket for Hurricane Katrina."
      ]
    },
    {
      "cell_type": "code",
      "metadata": {
        "id": "8xrXmX75dUFK",
        "colab": {
          "base_uri": "https://localhost:8080/"
        },
        "outputId": "0413620a-3f52-435f-ff08-46840d481b35"
      },
      "source": [
        "!ls /content/gpubootcamp/tcdata/tcdat/tc05/ATL/12L.KATRINA/ir/geo/1km"
      ],
      "execution_count": null,
      "outputs": [
        {
          "output_type": "stream",
          "text": [
            " 20050823.1245.goes12.x.ir1km.99LINVEST.30kts-1008mb-229N-752W.jpg\n",
            " 20050823.1315.goes12.x.ir1km.99LINVEST.30kts-1008mb-229N-752W.jpg\n",
            " 20050823.1345.goes12.x.ir1km.99LINVEST.25kts-1009mb-221N-747W.jpg\n",
            " 20050823.1415.goes12.x.ir1km.99LINVEST.25kts-1009mb-221N-747W.jpg\n",
            " 20050823.1445.goes12.x.ir1km.99LINVEST.25kts-1009mb-221N-747W.jpg\n",
            " 20050823.1515.goes12.x.ir1km.99LINVEST.25kts-1009mb-221N-747W.jpg\n",
            " 20050823.1545.goes12.x.ir1km.99LINVEST.25kts-1009mb-221N-747W.jpg\n",
            " 20050823.1615.goes12.x.ir1km.99LINVEST.25kts-1009mb-221N-747W.jpg\n",
            " 20050823.1645.goes12.x.ir1km.99LINVEST.25kts-1009mb-221N-747W.jpg\n",
            " 20050823.1715.goes12.x.ir1km.99LINVEST.25kts-1009mb-221N-747W.jpg\n",
            " 20050823.1745.goes12.x.ir1km.99LINVEST.25kts-1009mb-221N-747W.jpg\n",
            " 20050823.1815.goes12.x.ir1km.99LINVEST.30kts-1008mb-229N-752W.jpg\n",
            " 20050823.1845.goes12.x.ir1km.12LNONAME.30kts-1008mb-229N-752W.jpg\n",
            " 20050823.1915.goes12.x.ir1km.12LNONAME.30kts-1008mb-229N-752W.jpg\n",
            " 20050823.1945.goes12.x.ir1km.12LNONAME.30kts-1008mb-229N-752W.jpg\n",
            " 20050823.2015.goes12.x.ir1km.12LNONAME.30kts-1008mb-229N-752W.jpg\n",
            " 20050823.2045.goes12.x.ir1km.12LNONAME.30kts-1008mb-229N-752W.jpg\n",
            " 20050823.2115.goes12.x.ir1km.12LNONAME.30kts-1008mb-229N-752W.jpg\n",
            " 20050823.2145.goes12.x.ir1km.12LNONAME.30kts-1008mb-229N-752W.jpg\n",
            " 20050823.2215.goes12.x.ir1km.12LNONAME.30kts-1008mb-229N-752W.jpg\n",
            " 20050823.2245.goes12.x.ir1km.12LNONAME.30kts-1008mb-229N-752W.jpg\n",
            " 20050823.2315.goes12.x.ir1km.12LNONAME.30kts-1008mb-229N-752W.jpg\n",
            " 20050823.2345.goes12.x.ir1km.12LNONAME.30kts-1007mb-233N-758W.jpg\n",
            " 20050824.0015.goes12.x.ir1km.12LNONAME.30kts-1007mb-233N-758W.jpg\n",
            " 20050824.0045.goes12.x.ir1km.12LNONAME.30kts-1007mb-233N-758W.jpg\n",
            " 20050824.0115.goes12.x.ir1km.12LNONAME.30kts-1007mb-233N-757W.jpg\n",
            " 20050824.0145.goes12.x.ir1km.12LNONAME.30kts-1007mb-233N-757W.jpg\n",
            " 20050824.0215.goes12.x.ir1km.12LNONAME.30kts-1007mb-233N-757W.jpg\n",
            " 20050824.0245.goes12.x.ir1km.12LNONAME.30kts-1007mb-233N-757W.jpg\n",
            " 20050824.0315.goes12.x.ir1km.12LNONAME.30kts-1007mb-233N-757W.jpg\n",
            " 20050824.0345.goes12.x.ir1km.12LNONAME.30kts-1007mb-233N-757W.jpg\n",
            " 20050824.0615.goes12.x.ir1km.12LNONAME.30kts-1007mb-238N-761W.jpg\n",
            " 20050824.0645.goes12.x.ir1km.12LNONAME.30kts-1007mb-238N-761W.jpg\n",
            " 20050824.0715.goes12.x.ir1km.12LNONAME.30kts-1007mb-238N-761W.jpg\n",
            " 20050824.0745.goes12.x.ir1km.12LNONAME.30kts-1007mb-238N-761W.jpg\n",
            " 20050824.0815.goes12.x.ir1km.12LNONAME.30kts-1007mb-238N-761W.jpg\n",
            " 20050824.0845.goes12.x.ir1km.12LNONAME.30kts-1007mb-238N-761W.jpg\n",
            " 20050824.0915.goes12.x.ir1km.12LNONAME.30kts-1007mb-238N-761W.jpg\n",
            " 20050824.0945.goes12.x.ir1km.12LNONAME.30kts-1007mb-238N-761W.jpg\n",
            " 20050824.1015.goes12.x.ir1km.12LNONAME.30kts-1007mb-238N-761W.jpg\n",
            " 20050824.1045.goes12.x.ir1km.12LNONAME.30kts-1007mb-238N-761W.jpg\n",
            " 20050824.1115.goes12.x.ir1km.12LNONAME.30kts-1007mb-238N-761W.jpg\n",
            " 20050824.1145.goes12.x.ir1km.12LKATRINA.35kts-1006mb-244N-766W.jpg\n",
            " 20050824.1215.goes12.x.ir1km.12LKATRINA.35kts-1006mb-244N-766W.jpg\n",
            " 20050824.1245.goes12.x.ir1km.12LKATRINA.35kts-1006mb-244N-766W.jpg\n",
            " 20050824.1315.goes12.x.ir1km.12LKATRINA.35kts-1006mb-244N-766W.jpg\n",
            " 20050824.1345.goes12.x.ir1km.12LKATRINA.35kts-1006mb-244N-766W.jpg\n",
            " 20050824.1415.goes12.x.ir1km.12LKATRINA.35kts-1006mb-244N-766W.jpg\n",
            " 20050824.1445.goes12.x.ir1km.12LKATRINA.35kts-1006mb-244N-766W.jpg\n",
            " 20050824.1515.goes12.x.ir1km.12LKATRINA.35kts-1006mb-244N-766W.jpg\n",
            " 20050824.1545.goes12.x.ir1km.12LKATRINA.35kts-1006mb-244N-766W.jpg\n",
            " 20050824.1615.goes12.x.ir1km.12LKATRINA.35kts-1006mb-244N-766W.jpg\n",
            " 20050824.1645.goes12.x.ir1km.12LKATRINA.35kts-1006mb-244N-766W.jpg\n",
            " 20050824.1715.goes12.x.ir1km.12LKATRINA.35kts-1006mb-244N-766W.jpg\n",
            " 20050824.1745.goes12.x.ir1km.12LKATRINA.40kts-1003mb-252N-770W.jpg\n",
            " 20050824.1815.goes12.x.ir1km.12LKATRINA.40kts-1003mb-252N-770W.jpg\n",
            " 20050824.1845.goes12.x.ir1km.12LKATRINA.40kts-1003mb-252N-770W.jpg\n",
            " 20050824.1915.goes12.x.ir1km.12LKATRINA.40kts-1003mb-252N-770W.jpg\n",
            " 20050824.1945.goes12.x.ir1km.12LKATRINA.40kts-1003mb-252N-770W.jpg\n",
            " 20050824.2015.goes12.x.ir1km.12LKATRINA.40kts-1003mb-252N-770W.jpg\n",
            " 20050824.2045.goes12.x.ir1km.12LKATRINA.40kts-1003mb-252N-770W.jpg\n",
            " 20050824.2115.goes12.x.ir1km.12LKATRINA.40kts-1003mb-252N-770W.jpg\n",
            " 20050824.2145.goes12.x.ir1km.12LKATRINA.40kts-1003mb-252N-770W.jpg\n",
            " 20050824.2215.goes12.x.ir1km.12LKATRINA.40kts-1003mb-252N-770W.jpg\n",
            " 20050824.2245.goes12.x.ir1km.12LKATRINA.40kts-1003mb-252N-770W.jpg\n",
            " 20050824.2315.goes12.x.ir1km.12LKATRINA.40kts-1003mb-252N-770W.jpg\n",
            " 20050824.2345.goes12.x.ir1km.12LKATRINA.40kts-1001mb-260N-776W.jpg\n",
            " 20050825.0015.goes12.x.ir1km.12LKATRINA.40kts-1001mb-260N-776W.jpg\n",
            " 20050825.0045.goes12.x.ir1km.12LKATRINA.40kts-1001mb-260N-776W.jpg\n",
            " 20050825.0115.goes12.x.ir1km.12LKATRINA.40kts-1001mb-260N-776W.jpg\n",
            " 20050825.0145.goes12.x.ir1km.12LKATRINA.40kts-1001mb-260N-776W.jpg\n",
            " 20050825.0215.goes12.x.ir1km.12LKATRINA.40kts-1001mb-260N-776W.jpg\n",
            " 20050825.0245.goes12.x.ir1km.12LKATRINA.40kts-1001mb-260N-776W.jpg\n",
            " 20050825.0315.goes12.x.ir1km.12LKATRINA.40kts-1001mb-260N-776W.jpg\n",
            " 20050825.0345.goes12.x.ir1km.12LKATRINA.40kts-1001mb-260N-776W.jpg\n",
            " 20050825.0615.goes12.x.ir1km.12LKATRINA.40kts-1001mb-260N-776W.jpg\n",
            " 20050825.0645.goes12.x.ir1km.12LKATRINA.45kts-1000mb-261N-784W.jpg\n",
            " 20050825.0715.goes12.x.ir1km.12LKATRINA.45kts-1000mb-261N-784W.jpg\n",
            " 20050825.0745.goes12.x.ir1km.12LKATRINA.45kts-1000mb-261N-784W.jpg\n",
            " 20050825.0815.goes12.x.ir1km.12LKATRINA.45kts-1000mb-261N-784W.jpg\n",
            " 20050825.0845.goes12.x.ir1km.12LKATRINA.45kts-1000mb-261N-784W.jpg\n",
            " 20050825.0915.goes12.x.ir1km.12LKATRINA.45kts-1000mb-261N-784W.jpg\n",
            " 20050825.0945.goes12.x.ir1km.12LKATRINA.45kts-1000mb-261N-784W.jpg\n",
            " 20050825.1015.goes12.x.ir1km.12LKATRINA.45kts-1000mb-261N-784W.jpg\n",
            " 20050825.1045.goes12.x.ir1km.12LKATRINA.45kts-1000mb-261N-784W.jpg\n",
            " 20050825.1115.goes12.x.ir1km.12LKATRINA.45kts-1000mb-261N-784W.jpg\n",
            " 20050825.1145.goes12.x.ir1km.12LKATRINA.45kts-999mb-262N-790W.jpg\n",
            " 20050825.1215.goes12.x.ir1km.12LKATRINA.50kts-997mb-262N-790W.jpg\n",
            " 20050825.1245.goes12.x.ir1km.12LKATRINA.50kts-997mb-262N-790W.jpg\n",
            " 20050825.1315.goes12.x.ir1km.12LKATRINA.50kts-997mb-262N-790W.jpg\n",
            " 20050825.1345.goes12.x.ir1km.12LKATRINA.50kts-997mb-262N-790W.jpg\n",
            " 20050825.1415.goes12.x.ir1km.12LKATRINA.50kts-997mb-262N-790W.jpg\n",
            " 20050825.1445.goes12.x.ir1km.12LKATRINA.50kts-997mb-262N-790W.jpg\n",
            " 20050825.1515.goes12.x.ir1km.12LKATRINA.50kts-997mb-262N-790W.jpg\n",
            " 20050825.1545.goes12.x.ir1km.12LKATRINA.50kts-997mb-262N-790W.jpg\n",
            " 20050825.1615.goes12.x.ir1km.12LKATRINA.50kts-997mb-262N-790W.jpg\n",
            " 20050825.1645.goes12.x.ir1km.12LKATRINA.50kts-997mb-262N-790W.jpg\n",
            " 20050825.1715.goes12.x.ir1km.12LKATRINA.50kts-997mb-262N-790W.jpg\n",
            " 20050825.1745.goes12.x.ir1km.12LKATRINA.60kts-990mb-262N-795W.jpg\n",
            " 20050825.1815.goes12.x.ir1km.12LKATRINA.60kts-990mb-262N-795W.jpg\n",
            " 20050825.1845.goes12.x.ir1km.12LKATRINA.60kts-990mb-262N-795W.jpg\n",
            " 20050825.1915.goes12.x.ir1km.12LKATRINA.60kts-990mb-262N-795W.jpg\n",
            " 20050825.1945.goes12.x.ir1km.12LKATRINA.60kts-990mb-262N-795W.jpg\n",
            " 20050825.2015.goes12.x.ir1km.12LKATRINA.60kts-990mb-262N-795W.jpg\n",
            " 20050825.2045.goes12.x.ir1km.12LKATRINA.60kts-990mb-262N-795W.jpg\n",
            " 20050825.2115.goes12.x.ir1km.12LKATRINA.60kts-990mb-262N-795W.jpg\n",
            " 20050825.2145.goes12.x.ir1km.12LKATRINA.60kts-990mb-262N-795W.jpg\n",
            " 20050825.2215.goes12.x.ir1km.12LKATRINA.60kts-990mb-262N-795W.jpg\n",
            " 20050825.2245.goes12.x.ir1km.12LKATRINA.60kts-990mb-262N-795W.jpg\n",
            " 20050825.2315.goes12.x.ir1km.12LKATRINA.60kts-990mb-262N-795W.jpg\n",
            " 20050825.2345.goes12.x.ir1km.12LKATRINA.65kts-985mb-259N-803W.jpg\n",
            " 20050826.0015.goes12.x.ir1km.12LKATRINA.65kts-985mb-259N-803W.jpg\n",
            " 20050826.0045.goes12.x.ir1km.12LKATRINA.65kts-985mb-259N-803W.jpg\n",
            " 20050826.0115.goes12.x.ir1km.12LKATRINA.65kts-985mb-259N-803W.jpg\n",
            " 20050826.0145.goes12.x.ir1km.12LKATRINA.65kts-985mb-259N-803W.jpg\n",
            " 20050826.0215.goes12.x.ir1km.12LKATRINA.65kts-985mb-259N-803W.jpg\n",
            " 20050826.0245.goes12.x.ir1km.12LKATRINA.65kts-985mb-259N-803W.jpg\n",
            " 20050826.0315.goes12.x.ir1km.12LKATRINA.65kts-985mb-259N-803W.jpg\n",
            " 20050826.0345.goes12.x.ir1km.12LKATRINA.65kts-985mb-259N-803W.jpg\n",
            " 20050826.0615.goes12.x.ir1km.12LKATRINA.60kts-990mb-254N-813W.jpg\n",
            " 20050826.0645.goes12.x.ir1km.12LKATRINA.60kts-990mb-254N-813W.jpg\n",
            " 20050826.0715.goes12.x.ir1km.12LKATRINA.60kts-990mb-254N-813W.jpg\n",
            " 20050826.0745.goes12.x.ir1km.12LKATRINA.60kts-990mb-254N-813W.jpg\n",
            " 20050826.0815.goes12.x.ir1km.12LKATRINA.60kts-990mb-254N-813W.jpg\n",
            " 20050826.0845.goes12.x.ir1km.12LKATRINA.60kts-990mb-254N-813W.jpg\n",
            " 20050826.0915.goes12.x.ir1km.12LKATRINA.60kts-990mb-254N-813W.jpg\n",
            " 20050826.0945.goes12.x.ir1km.12LKATRINA.60kts-990mb-254N-813W.jpg\n",
            " 20050826.1015.goes12.x.ir1km.12LKATRINA.60kts-990mb-254N-813W.jpg\n",
            " 20050826.1045.goes12.x.ir1km.12LKATRINA.60kts-990mb-254N-813W.jpg\n",
            " 20050826.1115.goes12.x.ir1km.12LKATRINA.60kts-990mb-254N-813W.jpg\n",
            " 20050826.1145.goes12.x.ir1km.12LKATRINA.60kts-990mb-254N-813W.jpg\n",
            " 20050826.1200.goes10.x.ir1km.12LKATRINA.65kts-987mb-252N-819W.jpg\n",
            " 20050826.1215.goes12.x.ir1km.12LKATRINA.65kts-987mb-252N-819W.jpg\n",
            " 20050826.1245.goes12.x.ir1km.12LKATRINA.65kts-987mb-252N-819W.jpg\n",
            " 20050826.1315.goes12.x.ir1km.12LKATRINA.65kts-987mb-252N-819W.jpg\n",
            " 20050826.1345.goes12.x.ir1km.12LKATRINA.65kts-987mb-252N-819W.jpg\n",
            " 20050826.1415.goes12.x.ir1km.12LKATRINA.65kts-987mb-252N-819W.jpg\n",
            " 20050826.1445.goes12.x.ir1km.12LKATRINA.65kts-987mb-252N-819W.jpg\n",
            " 20050826.1500.goes10.x.ir1km.12LKATRINA.65kts-987mb-252N-819W.jpg\n",
            " 20050826.1515.goes12.x.ir1km.12LKATRINA.65kts-987mb-252N-819W.jpg\n",
            " 20050826.1545.goes12.x.ir1km.12LKATRINA.65kts-987mb-252N-819W.jpg\n",
            " 20050826.1645.goes12.x.ir1km.12LKATRINA.65kts-987mb-252N-819W.jpg\n",
            " 20050826.1715.goes12.x.ir1km.12LKATRINA.65kts-987mb-252N-819W.jpg\n",
            " 20050826.1745.goes12.x.ir1km.12LKATRINA.65kts-987mb-252N-819W.jpg\n",
            " 20050826.1800.goes10.x.ir1km.12LKATRINA.85kts-969mb-249N-826W.jpg\n",
            " 20050826.1815.goes12.x.ir1km.12LKATRINA.65kts-987mb-252N-819W.jpg\n",
            " 20050826.1845.goes12.x.ir1km.12LKATRINA.85kts-969mb-249N-826W.jpg\n",
            " 20050826.1915.goes12.x.ir1km.12LKATRINA.85kts-969mb-249N-826W.jpg\n",
            " 20050826.1945.goes12.x.ir1km.12LKATRINA.85kts-969mb-249N-826W.jpg\n",
            " 20050826.2015.goes12.x.ir1km.12LKATRINA.85kts-969mb-249N-826W.jpg\n",
            " 20050826.2045.goes12.x.ir1km.12LKATRINA.85kts-969mb-249N-826W.jpg\n",
            " 20050826.2100.goes10.x.ir1km.12LKATRINA.85kts-969mb-249N-826W.jpg\n",
            " 20050826.2115.goes12.x.ir1km.12LKATRINA.85kts-969mb-249N-826W.jpg\n",
            " 20050826.2145.goes12.x.ir1km.12LKATRINA.85kts-969mb-249N-826W.jpg\n",
            " 20050826.2215.goes12.x.ir1km.12LKATRINA.85kts-969mb-249N-826W.jpg\n",
            " 20050826.2245.goes12.x.ir1km.12LKATRINA.85kts-969mb-249N-826W.jpg\n",
            " 20050826.2315.goes12.x.ir1km.12LKATRINA.85kts-969mb-249N-826W.jpg\n",
            " 20050826.2345.goes12.x.ir1km.12LKATRINA.85kts-965mb-247N-833W.jpg\n",
            " 20050827.0000.goes10.x.ir1km.12LKATRINA.85kts-965mb-247N-833W.jpg\n",
            " 20050827.0015.goes12.x.ir1km.12LKATRINA.85kts-965mb-247N-833W.jpg\n",
            " 20050827.0045.goes12.x.ir1km.12LKATRINA.85kts-965mb-247N-833W.jpg\n",
            " 20050827.0115.goes12.x.ir1km.12LKATRINA.85kts-965mb-247N-833W.jpg\n",
            " 20050827.0145.goes12.x.ir1km.12LKATRINA.85kts-965mb-247N-833W.jpg\n",
            " 20050827.0215.goes12.x.ir1km.12LKATRINA.85kts-965mb-247N-833W.jpg\n",
            " 20050827.0245.goes12.x.ir1km.12LKATRINA.85kts-965mb-247N-833W.jpg\n",
            " 20050827.0300.goes10.x.ir1km.12LKATRINA.85kts-965mb-247N-833W.jpg\n",
            " 20050827.0315.goes12.x.ir1km.12LKATRINA.85kts-965mb-247N-833W.jpg\n",
            " 20050827.0345.goes12.x.ir1km.12LKATRINA.85kts-965mb-247N-833W.jpg\n",
            " 20050827.0400.goes10.x.ir1km.12LKATRINA.85kts-965mb-247N-833W.jpg\n",
            " 20050827.0430.goes10.x.ir1km.12LKATRINA.85kts-965mb-247N-833W.jpg\n",
            " 20050827.0500.goes10.x.ir1km.12LKATRINA.85kts-965mb-247N-833W.jpg\n",
            " 20050827.0530.goes10.x.ir1km.12LKATRINA.85kts-965mb-247N-833W.jpg\n",
            " 20050827.0600.goes10.x.ir1km.12LKATRINA.95kts-950mb-244N-840W.jpg\n",
            " 20050827.0615.goes12.x.ir1km.12LKATRINA.85kts-965mb-247N-833W.jpg\n",
            " 20050827.0645.goes12.x.ir1km.12LKATRINA.95kts-950mb-244N-840W.jpg\n",
            " 20050827.0715.goes12.x.ir1km.12LKATRINA.95kts-950mb-244N-840W.jpg\n",
            " 20050827.0745.goes12.x.ir1km.12LKATRINA.95kts-950mb-244N-840W.jpg\n",
            " 20050827.0815.goes12.x.ir1km.12LKATRINA.95kts-950mb-244N-840W.jpg\n",
            " 20050827.0845.goes12.x.ir1km.12LKATRINA.95kts-950mb-244N-840W.jpg\n",
            " 20050827.0915.goes12.x.ir1km.12LKATRINA.95kts-950mb-244N-840W.jpg\n",
            " 20050827.0945.goes12.x.ir1km.12LKATRINA.95kts-950mb-244N-840W.jpg\n",
            " 20050827.1015.goes12.x.ir1km.12LKATRINA.95kts-950mb-244N-840W.jpg\n",
            " 20050827.1045.goes12.x.ir1km.12LKATRINA.95kts-950mb-244N-840W.jpg\n",
            " 20050827.1115.goes12.x.ir1km.12LKATRINA.95kts-950mb-244N-840W.jpg\n",
            " 20050827.1145.goes12.x.ir1km.12LKATRINA.100kts-940mb-244N-846W.jpg\n",
            " 20050827.1200.goes10.x.ir1km.12LKATRINA.100kts-940mb-244N-846W.jpg\n",
            " 20050827.1215.goes12.x.ir1km.12LKATRINA.100kts-940mb-244N-846W.jpg\n",
            " 20050827.1245.goes12.x.ir1km.12LKATRINA.100kts-940mb-244N-846W.jpg\n",
            " 20050827.1315.goes12.x.ir1km.12LKATRINA.100kts-940mb-244N-846W.jpg\n",
            " 20050827.1345.goes12.x.ir1km.12LKATRINA.100kts-940mb-244N-846W.jpg\n",
            " 20050827.1415.goes12.x.ir1km.12LKATRINA.100kts-940mb-244N-846W.jpg\n",
            " 20050827.1445.goes12.x.ir1km.12LKATRINA.100kts-940mb-244N-846W.jpg\n",
            " 20050827.1500.goes10.x.ir1km.12LKATRINA.100kts-940mb-244N-846W.jpg\n",
            " 20050827.1515.goes12.x.ir1km.12LKATRINA.100kts-940mb-244N-846W.jpg\n",
            " 20050827.1545.goes12.x.ir1km.12LKATRINA.100kts-940mb-244N-846W.jpg\n",
            " 20050827.1615.goes12.x.ir1km.12LKATRINA.100kts-940mb-244N-846W.jpg\n",
            " 20050827.1645.goes12.x.ir1km.12LKATRINA.100kts-940mb-244N-846W.jpg\n",
            " 20050827.1715.goes12.x.ir1km.12LKATRINA.100kts-940mb-244N-846W.jpg\n",
            " 20050827.1745.goes12.x.ir1km.12LKATRINA.100kts-940mb-244N-846W.jpg\n",
            " 20050827.1800.goes10.x.ir1km.12LKATRINA.100kts-949mb-245N-853W.jpg\n",
            " 20050827.1815.goes12.x.ir1km.12LKATRINA.100kts-949mb-245N-853W.jpg\n",
            " 20050827.1845.goes12.x.ir1km.12LKATRINA.100kts-949mb-245N-853W.jpg\n",
            " 20050827.1915.goes12.x.ir1km.12LKATRINA.100kts-949mb-245N-853W.jpg\n",
            " 20050827.1945.goes12.x.ir1km.12LKATRINA.100kts-949mb-245N-853W.jpg\n",
            " 20050827.2015.goes12.x.ir1km.12LKATRINA.100kts-949mb-245N-853W.jpg\n",
            " 20050827.2045.goes12.x.ir1km.12LKATRINA.100kts-949mb-245N-853W.jpg\n",
            " 20050827.2100.goes10.x.ir1km.12LKATRINA.100kts-949mb-245N-853W.jpg\n",
            " 20050827.2115.goes12.x.ir1km.12LKATRINA.100kts-949mb-245N-853W.jpg\n",
            " 20050827.2145.goes12.x.ir1km.12LKATRINA.100kts-949mb-245N-853W.jpg\n",
            " 20050827.2215.goes12.x.ir1km.12LKATRINA.100kts-949mb-245N-853W.jpg\n",
            " 20050827.2245.goes12.x.ir1km.12LKATRINA.100kts-949mb-245N-853W.jpg\n",
            " 20050827.2315.goes12.x.ir1km.12LKATRINA.100kts-949mb-245N-853W.jpg\n",
            " 20050827.2345.goes12.x.ir1km.12LKATRINA.100kts-942mb-249N-859W.jpg\n",
            " 20050828.0000.goes10.x.ir1km.12LKATRINA.100kts-942mb-249N-859W.jpg\n",
            " 20050828.0015.goes12.x.ir1km.12LKATRINA.100kts-942mb-249N-859W.jpg\n",
            " 20050828.0045.goes12.x.ir1km.12LKATRINA.100kts-942mb-249N-859W.jpg\n",
            " 20050828.0115.goes12.x.ir1km.12LKATRINA.100kts-942mb-249N-859W.jpg\n",
            " 20050828.0145.goes12.x.ir1km.12LKATRINA.100kts-942mb-249N-859W.jpg\n",
            " 20050828.0215.goes12.x.ir1km.12LKATRINA.100kts-942mb-249N-859W.jpg\n",
            " 20050828.0245.goes12.x.ir1km.12LKATRINA.100kts-942mb-249N-859W.jpg\n",
            " 20050828.0300.goes10.x.ir1km.12LKATRINA.100kts-942mb-249N-859W.jpg\n",
            " 20050828.0315.goes12.x.ir1km.12LKATRINA.100kts-942mb-249N-859W.jpg\n",
            " 20050828.0345.goes12.x.ir1km.12LKATRINA.100kts-942mb-249N-859W.jpg\n",
            " 20050828.0400.goes10.x.ir1km.12LKATRINA.100kts-942mb-249N-859W.jpg\n",
            " 20050828.0430.goes10.x.ir1km.12LKATRINA.100kts-942mb-249N-859W.jpg\n",
            " 20050828.0500.goes10.x.ir1km.12LKATRINA.100kts-942mb-249N-859W.jpg\n",
            " 20050828.0530.goes10.x.ir1km.12LKATRINA.100kts-942mb-249N-859W.jpg\n",
            " 20050828.0600.goes10.x.ir1km.12LKATRINA.100kts-942mb-249N-859W.jpg\n",
            " 20050828.0615.goes12.x.ir1km.12LKATRINA.100kts-942mb-249N-859W.jpg\n",
            " 20050828.0645.goes12.x.ir1km.12LKATRINA.125kts-935mb-252N-868W.jpg\n",
            " 20050828.0715.goes12.x.ir1km.12LKATRINA.125kts-935mb-252N-868W.jpg\n",
            " 20050828.0745.goes12.x.ir1km.12LKATRINA.125kts-935mb-252N-868W.jpg\n",
            " 20050828.0815.goes12.x.ir1km.12LKATRINA.125kts-935mb-252N-868W.jpg\n",
            " 20050828.0845.goes12.x.ir1km.12LKATRINA.125kts-935mb-252N-868W.jpg\n",
            " 20050828.0915.goes12.x.ir1km.12LKATRINA.125kts-935mb-252N-868W.jpg\n",
            " 20050828.0945.goes12.x.ir1km.12LKATRINA.125kts-935mb-252N-868W.jpg\n",
            " 20050828.1015.goes12.x.ir1km.12LKATRINA.125kts-935mb-252N-868W.jpg\n",
            " 20050828.1045.goes12.x.ir1km.12LKATRINA.125kts-935mb-252N-868W.jpg\n",
            " 20050828.1115.goes12.x.ir1km.12LKATRINA.125kts-935mb-252N-868W.jpg\n",
            " 20050828.1145.goes12.x.ir1km.12LKATRINA.140kts-908mb-257N-877W.jpg\n",
            " 20050828.1200.goes10.x.ir1km.12LKATRINA.140kts-908mb-257N-877W.jpg\n",
            " 20050828.1215.goes12.x.ir1km.12LKATRINA.140kts-908mb-257N-877W.jpg\n",
            " 20050828.1245.goes12.x.ir1km.12LKATRINA.140kts-908mb-257N-877W.jpg\n",
            " 20050828.1315.goes12.x.ir1km.12LKATRINA.140kts-908mb-257N-877W.jpg\n",
            " 20050828.1345.goes12.x.ir1km.12LKATRINA.140kts-908mb-257N-877W.jpg\n",
            " 20050828.1415.goes12.x.ir1km.12LKATRINA.140kts-908mb-257N-877W.jpg\n",
            " 20050828.1445.goes12.x.ir1km.12LKATRINA.140kts-908mb-257N-877W.jpg\n",
            " 20050828.1500.goes10.x.ir1km.12LKATRINA.140kts-908mb-257N-877W.jpg\n",
            " 20050828.1515.goes12.x.ir1km.12LKATRINA.140kts-908mb-257N-877W.jpg\n",
            " 20050828.1545.goes12.x.ir1km.12LKATRINA.140kts-908mb-257N-877W.jpg\n",
            " 20050828.1615.goes12.x.ir1km.12LKATRINA.140kts-908mb-257N-877W.jpg\n",
            " 20050828.1645.goes12.x.ir1km.12LKATRINA.140kts-908mb-257N-877W.jpg\n",
            " 20050828.1715.goes12.x.ir1km.12LKATRINA.140kts-908mb-257N-877W.jpg\n",
            " 20050828.1745.goes12.x.ir1km.12LKATRINA.150kts-908mb-264N-887W.jpg\n",
            " 20050828.1800.goes10.x.ir1km.12LKATRINA.150kts-902mb-264N-887W.jpg\n",
            " 20050828.1815.goes12.x.ir1km.12LKATRINA.150kts-902mb-264N-887W.jpg\n",
            " 20050828.1845.goes12.x.ir1km.12LKATRINA.150kts-902mb-264N-887W.jpg\n",
            " 20050828.1915.goes12.x.ir1km.12LKATRINA.150kts-902mb-264N-887W.jpg\n",
            " 20050828.1945.goes12.x.ir1km.12LKATRINA.150kts-902mb-264N-887W.jpg\n",
            " 20050828.2015.goes12.x.ir1km.12LKATRINA.150kts-902mb-264N-887W.jpg\n",
            " 20050828.2045.goes12.x.ir1km.12LKATRINA.150kts-902mb-264N-887W.jpg\n",
            " 20050828.2100.goes10.x.ir1km.12LKATRINA.150kts-902mb-264N-887W.jpg\n",
            " 20050828.2115.goes12.x.ir1km.12LKATRINA.150kts-902mb-264N-887W.jpg\n",
            " 20050828.2145.goes12.x.ir1km.12LKATRINA.150kts-902mb-264N-887W.jpg\n",
            " 20050828.2215.goes12.x.ir1km.12LKATRINA.150kts-902mb-264N-887W.jpg\n",
            " 20050828.2245.goes12.x.ir1km.12LKATRINA.150kts-902mb-264N-887W.jpg\n",
            " 20050828.2315.goes12.x.ir1km.12LKATRINA.140kts-904mb-272N-891W.jpg\n",
            " 20050828.2345.goes12.x.ir1km.12LKATRINA.140kts-904mb-272N-891W.jpg\n",
            " 20050829.0000.goes10.x.ir1km.12LKATRINA.140kts-904mb-272N-891W.jpg\n",
            " 20050829.0015.goes12.x.ir1km.12LKATRINA.140kts-904mb-272N-891W.jpg\n",
            " 20050829.0045.goes12.x.ir1km.12LKATRINA.140kts-904mb-272N-891W.jpg\n",
            " 20050829.0115.goes12.x.ir1km.12LKATRINA.140kts-904mb-272N-891W.jpg\n",
            " 20050829.0145.goes12.x.ir1km.12LKATRINA.140kts-904mb-272N-891W.jpg\n",
            " 20050829.0215.goes12.x.ir1km.12LKATRINA.140kts-904mb-272N-891W.jpg\n",
            " 20050829.0245.goes12.x.ir1km.12LKATRINA.140kts-904mb-272N-891W.jpg\n",
            " 20050829.0300.goes10.x.ir1km.12LKATRINA.140kts-904mb-272N-891W.jpg\n",
            " 20050829.0315.goes12.x.ir1km.12LKATRINA.140kts-904mb-272N-891W.jpg\n",
            " 20050829.0345.goes12.x.ir1km.12LKATRINA.140kts-904mb-272N-891W.jpg\n",
            " 20050829.0400.goes10.x.ir1km.12LKATRINA.140kts-904mb-272N-891W.jpg\n",
            " 20050829.0430.goes10.x.ir1km.12LKATRINA.140kts-904mb-272N-891W.jpg\n",
            " 20050829.0500.goes10.x.ir1km.12LKATRINA.140kts-904mb-272N-891W.jpg\n",
            " 20050829.0530.goes10.x.ir1km.12LKATRINA.140kts-910mb-281N-896W.jpg\n",
            " 20050829.0600.goes10.x.ir1km.12LKATRINA.140kts-910mb-281N-896W.jpg\n",
            " 20050829.0615.goes12.x.ir1km.12LKATRINA.140kts-910mb-281N-896W.jpg\n",
            " 20050829.0645.goes12.x.ir1km.12LKATRINA.140kts-910mb-281N-896W.jpg\n",
            " 20050829.0715.goes12.x.ir1km.12LKATRINA.140kts-910mb-281N-896W.jpg\n",
            " 20050829.0745.goes12.x.ir1km.12LKATRINA.140kts-910mb-281N-896W.jpg\n",
            " 20050829.0815.goes12.x.ir1km.12LKATRINA.140kts-910mb-281N-896W.jpg\n",
            " 20050829.0845.goes12.x.ir1km.12LKATRINA.140kts-910mb-281N-896W.jpg\n",
            " 20050829.0915.goes12.x.ir1km.12LKATRINA.140kts-910mb-281N-896W.jpg\n",
            " 20050829.0945.goes12.x.ir1km.12LKATRINA.140kts-910mb-281N-896W.jpg\n",
            " 20050829.1015.goes12.x.ir1km.12LKATRINA.140kts-910mb-281N-896W.jpg\n",
            " 20050829.1045.goes12.x.ir1km.12LKATRINA.140kts-910mb-281N-896W.jpg\n",
            " 20050829.1115.goes12.x.ir1km.12LKATRINA.140kts-910mb-281N-896W.jpg\n",
            " 20050829.1145.goes12.x.ir1km.12LKATRINA.120kts-922mb-295N-895W.jpg\n",
            " 20050829.1200.goes10.x.ir1km.12LKATRINA.120kts-922mb-295N-895W.jpg\n",
            " 20050829.1215.goes12.x.ir1km.12LKATRINA.120kts-922mb-295N-895W.jpg\n",
            " 20050829.1245.goes12.x.ir1km.12LKATRINA.120kts-922mb-295N-895W.jpg\n",
            " 20050829.1315.goes12.x.ir1km.12LKATRINA.120kts-922mb-295N-895W.jpg\n",
            " 20050829.1345.goes12.x.ir1km.12LKATRINA.120kts-922mb-295N-895W.jpg\n",
            " 20050829.1415.goes12.x.ir1km.12LKATRINA.120kts-922mb-295N-895W.jpg\n",
            " 20050829.1445.goes12.x.ir1km.12LKATRINA.120kts-922mb-295N-895W.jpg\n",
            " 20050829.1500.goes10.x.ir1km.12LKATRINA.120kts-922mb-295N-895W.jpg\n",
            " 20050829.1515.goes12.x.ir1km.12LKATRINA.120kts-922mb-295N-895W.jpg\n",
            " 20050829.1545.goes12.x.ir1km.12LKATRINA.120kts-922mb-295N-895W.jpg\n",
            " 20050829.1615.goes12.x.ir1km.12LKATRINA.120kts-922mb-295N-895W.jpg\n",
            " 20050829.1645.goes12.x.ir1km.12LKATRINA.120kts-922mb-295N-895W.jpg\n",
            " 20050829.1715.goes12.x.ir1km.12LKATRINA.120kts-922mb-295N-895W.jpg\n",
            " 20050829.1745.goes12.x.ir1km.12LKATRINA.85kts-950mb-311N-896W.jpg\n",
            " 20050829.1800.goes10.x.ir1km.12LKATRINA.85kts-950mb-311N-896W.jpg\n",
            " 20050829.1815.goes12.x.ir1km.12LKATRINA.85kts-950mb-311N-896W.jpg\n",
            " 20050829.1845.goes12.x.ir1km.12LKATRINA.85kts-950mb-311N-896W.jpg\n",
            " 20050829.1915.goes12.x.ir1km.12LKATRINA.85kts-950mb-311N-896W.jpg\n",
            " 20050829.1945.goes12.x.ir1km.12LKATRINA.85kts-950mb-311N-896W.jpg\n",
            " 20050829.2015.goes12.x.ir1km.12LKATRINA.85kts-950mb-311N-896W.jpg\n",
            " 20050829.2045.goes12.x.ir1km.12LKATRINA.85kts-950mb-311N-896W.jpg\n",
            " 20050829.2100.goes10.x.ir1km.12LKATRINA.85kts-950mb-311N-896W.jpg\n",
            " 20050829.2115.goes12.x.ir1km.12LKATRINA.85kts-950mb-311N-896W.jpg\n",
            " 20050829.2145.goes12.x.ir1km.12LKATRINA.85kts-950mb-311N-896W.jpg\n",
            " 20050829.2215.goes12.x.ir1km.12LKATRINA.85kts-950mb-311N-896W.jpg\n",
            " 20050829.2245.goes12.x.ir1km.12LKATRINA.85kts-950mb-311N-896W.jpg\n",
            " 20050829.2315.goes12.x.ir1km.12LKATRINA.85kts-950mb-311N-896W.jpg\n",
            " 20050829.2345.goes12.x.ir1km.12LKATRINA.55kts-965mb-328N-888W.jpg\n",
            " 20050830.0000.goes10.x.ir1km.12LKATRINA.55kts-965mb-328N-888W.jpg\n",
            " 20050830.0015.goes12.x.ir1km.12LKATRINA.55kts-965mb-328N-888W.jpg\n",
            " 20050830.0045.goes12.x.ir1km.12LKATRINA.55kts-965mb-328N-888W.jpg\n",
            " 20050830.0115.goes12.x.ir1km.12LKATRINA.55kts-965mb-328N-888W.jpg\n",
            " 20050830.0145.goes12.x.ir1km.12LKATRINA.55kts-965mb-328N-888W.jpg\n",
            " 20050830.0215.goes12.x.ir1km.12LKATRINA.55kts-965mb-328N-888W.jpg\n",
            " 20050830.0245.goes12.x.ir1km.12LKATRINA.55kts-965mb-328N-888W.jpg\n",
            " 20050830.0300.goes10.x.ir1km.12LKATRINA.55kts-965mb-328N-888W.jpg\n",
            " 20050830.0315.goes12.x.ir1km.12LKATRINA.55kts-965mb-328N-888W.jpg\n",
            " 20050830.0345.goes12.x.ir1km.12LKATRINA.55kts-965mb-328N-888W.jpg\n",
            " 20050830.0400.goes10.x.ir1km.12LKATRINA.55kts-965mb-328N-888W.jpg\n",
            " 20050830.0430.goes10.x.ir1km.12LKATRINA.55kts-965mb-328N-888W.jpg\n",
            " 20050830.0500.goes10.x.ir1km.12LKATRINA.55kts-965mb-328N-888W.jpg\n",
            " 20050830.0530.goes10.x.ir1km.12LKATRINA.55kts-965mb-328N-888W.jpg\n",
            " 20050830.0600.goes10.x.ir1km.12LKATRINA.45kts-978mb-341N-886W.jpg\n",
            " 20050830.0615.goes12.x.ir1km.12LKATRINA.45kts-978mb-341N-886W.jpg\n",
            " 20050830.0645.goes12.x.ir1km.12LKATRINA.45kts-978mb-341N-886W.jpg\n",
            " 20050830.0715.goes12.x.ir1km.12LKATRINA.45kts-978mb-341N-886W.jpg\n",
            " 20050830.0745.goes12.x.ir1km.12LKATRINA.45kts-978mb-341N-886W.jpg\n",
            " 20050830.0815.goes12.x.ir1km.12LKATRINA.45kts-978mb-341N-886W.jpg\n",
            " 20050830.0845.goes12.x.ir1km.12LKATRINA.45kts-978mb-341N-886W.jpg\n",
            " 20050830.0915.goes12.x.ir1km.12LKATRINA.45kts-978mb-341N-886W.jpg\n",
            " 20050830.0945.goes12.x.ir1km.12LKATRINA.45kts-978mb-341N-886W.jpg\n",
            " 20050830.1015.goes12.x.ir1km.12LKATRINA.45kts-978mb-341N-886W.jpg\n",
            " 20050830.1045.goes12.x.ir1km.12LKATRINA.45kts-978mb-341N-886W.jpg\n",
            " 20050830.1115.goes12.x.ir1km.12LKATRINA.45kts-978mb-341N-886W.jpg\n",
            " 20050830.1145.goes12.x.ir1km.12LKATRINA.30kts-985mb-356N-880W.jpg\n",
            " 20050830.1200.goes10.x.ir1km.12LKATRINA.30kts-985mb-356N-880W.jpg\n",
            " 20050830.1215.goes12.x.ir1km.12LKATRINA.30kts-985mb-356N-880W.jpg\n",
            " 20050830.1245.goes12.x.ir1km.12LKATRINA.30kts-985mb-356N-880W.jpg\n",
            " 20050830.1315.goes12.x.ir1km.12LKATRINA.30kts-985mb-356N-880W.jpg\n",
            " 20050830.1345.goes12.x.ir1km.12LKATRINA.30kts-985mb-356N-880W.jpg\n",
            " 20050830.1415.goes12.x.ir1km.12LKATRINA.30kts-985mb-356N-880W.jpg\n",
            " 20050830.1445.goes12.x.ir1km.12LKATRINA.30kts-985mb-356N-880W.jpg\n",
            " 20050830.1500.goes10.x.ir1km.12LKATRINA.30kts-985mb-356N-880W.jpg\n",
            " 20050830.1515.goes12.x.ir1km.12LKATRINA.30kts-985mb-356N-880W.jpg\n",
            " 20050830.1545.goes12.x.ir1km.12LKATRINA.30kts-985mb-356N-880W.jpg\n",
            " 20050830.1615.goes12.x.ir1km.12LKATRINA.30kts-985mb-356N-880W.jpg\n",
            " 20050830.1645.goes12.x.ir1km.12LKATRINA.30kts-985mb-356N-880W.jpg\n",
            " 20050830.1715.goes12.x.ir1km.12LKATRINA.30kts-985mb-356N-880W.jpg\n",
            " 20050830.1745.goes12.x.ir1km.12LKATRINA.30kts-985mb-356N-880W.jpg\n",
            " 20050830.1800.goes10.x.ir1km.12LKATRINA.30kts-985mb-356N-880W.jpg\n",
            " 20050830.1815.goes12.x.ir1km.12LKATRINA.30kts-985mb-356N-880W.jpg\n",
            " 20050830.1845.goes12.x.ir1km.12LKATRINA.30kts-985mb-356N-880W.jpg\n",
            " 20050830.1915.goes12.x.ir1km.12LKATRINA.30kts-985mb-356N-880W.jpg\n",
            " 20050830.1945.goes12.x.ir1km.12LKATRINA.30kts-985mb-356N-880W.jpg\n",
            " 20050830.2015.goes12.x.ir1km.12LKATRINA.30kts-985mb-356N-880W.jpg\n",
            " 20050830.2045.goes12.x.ir1km.12LKATRINA.30kts-985mb-356N-880W.jpg\n",
            " 20050830.2100.goes10.x.ir1km.12LKATRINA.30kts-985mb-356N-880W.jpg\n",
            " 20050830.2115.goes12.x.ir1km.12LKATRINA.30kts-985mb-356N-880W.jpg\n",
            " 20050830.2145.goes12.x.ir1km.12LKATRINA.30kts-985mb-356N-880W.jpg\n",
            " 20050830.2215.goes12.x.ir1km.12LKATRINA.30kts-985mb-356N-880W.jpg\n",
            " 20050830.2245.goes12.x.ir1km.12LKATRINA.30kts-985mb-356N-880W.jpg\n",
            " 20050830.2315.goes12.x.ir1km.12LKATRINA.30kts-985mb-356N-880W.jpg\n",
            " 20050830.2345.goes12.x.ir1km.12LKATRINA.30kts-985mb-356N-880W.jpg\n",
            " 20050831.0000.goes10.x.ir1km.12LKATRINA.30kts-985mb-356N-880W.jpg\n",
            " 20050831.0015.goes12.x.ir1km.12LKATRINA.30kts-985mb-356N-880W.jpg\n",
            " 20050831.0045.goes12.x.ir1km.12LKATRINA.30kts-985mb-356N-880W.jpg\n",
            " 20050831.0115.goes12.x.ir1km.12LKATRINA.30kts-985mb-356N-880W.jpg\n",
            " 20050831.0145.goes12.x.ir1km.12LKATRINA.30kts-985mb-356N-880W.jpg\n",
            " 20050831.0215.goes12.x.ir1km.12LKATRINA.30kts-985mb-356N-880W.jpg\n",
            " 20050831.0245.goes12.x.ir1km.12LKATRINA.30kts-985mb-356N-880W.jpg\n",
            " 20050831.0300.goes10.x.ir1km.12LKATRINA.30kts-985mb-356N-880W.jpg\n",
            " 20050831.0315.goes12.x.ir1km.12LKATRINA.30kts-985mb-356N-880W.jpg\n",
            " 20050831.0345.goes12.x.ir1km.12LKATRINA.30kts-985mb-356N-880W.jpg\n",
            " 20050831.0400.goes10.x.ir1km.12LKATRINA.30kts-985mb-356N-880W.jpg\n",
            " 20050831.0430.goes10.x.ir1km.12LKATRINA.30kts-985mb-356N-880W.jpg\n",
            " 20050831.0500.goes10.x.ir1km.12LKATRINA.30kts-985mb-356N-880W.jpg\n",
            " 20050831.0530.goes10.x.ir1km.12LKATRINA.30kts-985mb-356N-880W.jpg\n",
            " 20050831.0600.goes10.x.ir1km.12LKATRINA.30kts-985mb-356N-880W.jpg\n",
            " 20050831.0615.goes12.x.ir1km.12LKATRINA.30kts-985mb-356N-880W.jpg\n",
            " 20050831.0645.goes12.x.ir1km.12LKATRINA.30kts-985mb-356N-880W.jpg\n",
            " 20050831.0715.goes12.x.ir1km.12LKATRINA.30kts-985mb-356N-880W.jpg\n",
            " 20050831.0745.goes12.x.ir1km.12LKATRINA.30kts-985mb-356N-880W.jpg\n",
            " 20050831.0815.goes12.x.ir1km.12LKATRINA.30kts-985mb-356N-880W.jpg\n",
            " 20050831.0845.goes12.x.ir1km.12LKATRINA.30kts-985mb-356N-880W.jpg\n",
            " 20050831.0915.goes12.x.ir1km.12LKATRINA.30kts-985mb-356N-880W.jpg\n",
            " 20050831.0945.goes12.x.ir1km.12LKATRINA.30kts-985mb-356N-880W.jpg\n",
            " 20050831.1015.goes12.x.ir1km.12LKATRINA.30kts-985mb-356N-880W.jpg\n",
            " 20050831.1045.goes12.x.ir1km.12LKATRINA.30kts-985mb-356N-880W.jpg\n",
            " 20050831.1115.goes12.x.ir1km.12LKATRINA.30kts-985mb-356N-880W.jpg\n",
            " 20050831.1145.goes12.x.ir1km.12LKATRINA.30kts-985mb-356N-880W.jpg\n",
            " 20050831.1200.goes10.x.ir1km.12LKATRINA.30kts-985mb-356N-880W.jpg\n",
            " 20050831.1215.goes12.x.ir1km.12LKATRINA.30kts-985mb-356N-880W.jpg\n",
            " 20050831.1245.goes12.x.ir1km.12LKATRINA.30kts-985mb-356N-880W.jpg\n",
            " 20050831.1315.goes12.x.ir1km.12LKATRINA.30kts-985mb-356N-880W.jpg\n",
            " 20050831.1345.goes12.x.ir1km.12LKATRINA.30kts-985mb-356N-880W.jpg\n",
            " 20050831.1415.goes12.x.ir1km.12LKATRINA.30kts-985mb-356N-880W.jpg\n",
            " 20050831.1445.goes12.x.ir1km.12LKATRINA.30kts-985mb-356N-880W.jpg\n",
            " 20050831.1500.goes10.x.ir1km.12LKATRINA.30kts-985mb-356N-880W.jpg\n",
            " 20050831.1515.goes12.x.ir1km.12LKATRINA.30kts-985mb-356N-880W.jpg\n",
            " 20050831.1545.goes12.x.ir1km.12LKATRINA.30kts-985mb-356N-880W.jpg\n",
            " 20050831.1615.goes12.x.ir1km.12LKATRINA.30kts-985mb-356N-880W.jpg\n",
            " 20050831.1645.goes12.x.ir1km.12LKATRINA.30kts-985mb-356N-880W.jpg\n",
            " 20050831.1715.goes12.x.ir1km.12LKATRINA.30kts-985mb-356N-880W.jpg\n",
            " 20050831.1745.goes12.x.ir1km.12LKATRINA.30kts-985mb-356N-880W.jpg\n",
            "'index.html?C=M;O=A.tmp'\n",
            " LATEST.jpg\n"
          ],
          "name": "stdout"
        }
      ]
    },
    {
      "cell_type": "markdown",
      "metadata": {
        "id": "jZLN7WGKdUFL"
      },
      "source": [
        "By a quick glance, we can understand the the Image Name has much information stored in it. \n",
        "\n",
        "Now, let us understand the format of the Data stored : \n",
        "\n",
        "*YYYYMMDD.HHMM*.Name of Satellite that captured the image and other relevant Data.jpg\n",
        "\n",
        "YYYYMMDD.HHMM  -> Year Month Date. Hours Minutes \n",
        "\n",
        "*Now we will be using the date time provided in the image name to annotate the type of category using the text data*"
      ]
    },
    {
      "cell_type": "markdown",
      "metadata": {
        "id": "a__k-JvndUFL"
      },
      "source": [
        "# Working with the Text Data \n",
        "\n",
        "We will be using the Best Track Data (HURDAT2) in the Atlantic Region for the Tropical Cyclone. From its [description](http://www.nhc.noaa.gov/data/#hurdat) on the NOAA's data web page\n",
        "\n",
        "<pre>\n",
        "Atlantic hurricane database (HURDAT2) 1851-2018</span> <br>\n",
        "This dataset was provided on 10 May 2019 to include the 2018 update to the best tracks.\n",
        "\n",
        "This dataset (<a href=\"/data/hurdat/hurdat2-format-atlantic.pdf\">known as Atlantic HURDAT2</a>) has\n",
        "a comma-delimited, text format with six-hourly information on the location,\n",
        "maximum winds, central pressure, and (beginning in 2004) size of all known tropical cyclones and subtropical cyclones.\n",
        "The original HURDAT database has been retired.</p>\n",
        "</pre>"
      ]
    },
    {
      "cell_type": "markdown",
      "metadata": {
        "id": "iWPEl6sYdUFL"
      },
      "source": [
        "\n",
        "\n",
        "\n",
        "\n",
        "**( Optional - [Pre-processing the Data](Pre-Processing_Text_Data.ipynb))**\n",
        "\n",
        "This data follows a Modified CSV format because of which Pandas ( Python Library for Data Manipulation and Analysis ) can not get any useable data directly. Hence, we will be building our parser to pre-process this data and make it usable in the upcoming tasks.\n",
        "\n",
        "The steps followed in Notebook [Pre-Processing Text Data](Pre-Processing_Text_Data.ipynb) are :\n",
        "\n",
        "- Understanding the format of the data \n",
        "- Storing the cyclone in a dictionary\n",
        "- Converting the dictionary to a Dataframe\n",
        "- Restructuring the columns and making it readable\n",
        "- Replacing sentinel values and removing empty strings\n",
        "- Removing unwanted spaces and reindexing the Data frame\n",
        "- Save this Dataframe to a CSV File"
      ]
    },
    {
      "cell_type": "markdown",
      "metadata": {
        "id": "I4IGJBpZdUFL"
      },
      "source": [
        "## Let us have a look at the text data :"
      ]
    },
    {
      "cell_type": "code",
      "metadata": {
        "id": "8AOQzpbbdUFL",
        "colab": {
          "base_uri": "https://localhost:8080/"
        },
        "outputId": "73dea73a-7189-435f-ad9c-6738742a7147"
      },
      "source": [
        "import pandas as pd\n",
        "atlantic_storms= pd.read_csv('gpubootcamp/hpc_ai/ai_science_climate/English/python/jupyter_notebook/Tropical_Cyclone_Intensity_Estimation/atlantic.csv')\n",
        "atlantic_storms.tail(10)\n",
        "# We'll be using the Date and Time for Finding out the Velocity of the Cyclone \n",
        "# So we'll make it into a readable format\n",
        "\n",
        "atlantic_storms['date'] = pd.to_datetime(atlantic_storms['date'].astype(str))\n",
        "atlantic_storms['date'] = atlantic_storms.apply(lambda srs: srs['date'].replace(hour=int((\"%04d\" % srs['hours_minutes'])[:2]), minute=int((\"%04d\" % srs['hours_minutes'])[2:])), axis='columns')\n",
        "del atlantic_storms['hours_minutes']\n",
        "atlantic_storms.tail()\n",
        "# Let's now save our Text Data to Use it in the Upcoming Notebooks\n",
        "atlantic_storms.to_csv(\"atlantic_storms.csv\", encoding='utf-8')\n",
        "atlantic_storms.tail()['date']"
      ],
      "execution_count": null,
      "outputs": [
        {
          "output_type": "execute_result",
          "data": {
            "text/plain": [
              "51305   2018-10-11 18:00:00\n",
              "51306   2018-10-12 00:00:00\n",
              "51307   2018-10-12 06:00:00\n",
              "51308   2018-10-12 12:00:00\n",
              "51309   2018-10-12 18:00:00\n",
              "Name: date, dtype: datetime64[ns]"
            ]
          },
          "metadata": {
            "tags": []
          },
          "execution_count": 120
        }
      ]
    },
    {
      "cell_type": "markdown",
      "metadata": {
        "id": "NZxguj6sRy6b"
      },
      "source": [
        "\n",
        "\n",
        "---\n",
        "\n",
        "# PART 3\n"
      ]
    },
    {
      "cell_type": "markdown",
      "metadata": {
        "id": "sm8_yJyFS7Hs"
      },
      "source": [
        "## Understand the Model requirements\n",
        "\n",
        "### We have seen the model to which our image will be fed\n",
        "\n",
        "- The model described in the paper \n",
        "![alt text](https://raw.githubusercontent.com/gpuhackathons-org/gpubootcamp/master/hpc_ai/ai_science_climate/English/python/jupyter_notebook/Tropical_Cyclone_Intensity_Estimation/images/model.png)\n",
        "\n",
        "We can see that the images need to be ( 232, 232, 3) in shape to be fed into our model.\n",
        "\n",
        "So, we will do the following steps before feeding the image into our model.\n",
        "\n",
        "- Step 1 : Resize Image from ( 1024, 1024 ,3) to ( 256 , 256 ,3 ) \n",
        "- Step 2 : Choose a random ( 232 , 232 , 3 ) patch from the ( 256 , 256 , 3 ) and feed into our model.\n",
        "\n",
        "**Alternate Approach** : We can modify the model's input shape to be ( 256 x 256 x 3 ) and train it on the scaled images, but we take a ( 232 x 232 x 3 ) random patch so that our model does not expect the cyclone to be in the center and learn to understanding the mapping even with the cyclones in the sides of the images.\n",
        "\n",
        "### Step 1 :\n",
        "Let's now start with Step 1 and understand all the resizing methods available to do so."
      ]
    },
    {
      "cell_type": "code",
      "metadata": {
        "colab": {
          "base_uri": "https://localhost:8080/",
          "height": 249
        },
        "id": "5E3GUQlDS6z-",
        "outputId": "8f61d365-bf62-4005-89d3-b703b4db1170"
      },
      "source": [
        "import cv2\n",
        "#Read the Image Using cv2.imread()\n",
        "img = cv2.imread('Tropical_Cyclone_Intensity_Estimation/images/image_shape.jpg',1)\n",
        "#Changing the Color Spaces\n",
        "img = cv2.cvtColor(img, cv2.COLOR_BGR2RGB)\n",
        "# Print the Shape of the Image\n",
        "img.shape"
      ],
      "execution_count": null,
      "outputs": [
        {
          "output_type": "error",
          "ename": "error",
          "evalue": "ignored",
          "traceback": [
            "\u001b[0;31m---------------------------------------------------------------------------\u001b[0m",
            "\u001b[0;31merror\u001b[0m                                     Traceback (most recent call last)",
            "\u001b[0;32m<ipython-input-121-de498e140db0>\u001b[0m in \u001b[0;36m<module>\u001b[0;34m()\u001b[0m\n\u001b[1;32m      3\u001b[0m \u001b[0mimg\u001b[0m \u001b[0;34m=\u001b[0m \u001b[0mcv2\u001b[0m\u001b[0;34m.\u001b[0m\u001b[0mimread\u001b[0m\u001b[0;34m(\u001b[0m\u001b[0;34m'images/image_shape.jpg'\u001b[0m\u001b[0;34m,\u001b[0m\u001b[0;36m1\u001b[0m\u001b[0;34m)\u001b[0m\u001b[0;34m\u001b[0m\u001b[0;34m\u001b[0m\u001b[0m\n\u001b[1;32m      4\u001b[0m \u001b[0;31m#Changing the Color Spaces\u001b[0m\u001b[0;34m\u001b[0m\u001b[0;34m\u001b[0m\u001b[0;34m\u001b[0m\u001b[0m\n\u001b[0;32m----> 5\u001b[0;31m \u001b[0mimg\u001b[0m \u001b[0;34m=\u001b[0m \u001b[0mcv2\u001b[0m\u001b[0;34m.\u001b[0m\u001b[0mcvtColor\u001b[0m\u001b[0;34m(\u001b[0m\u001b[0mimg\u001b[0m\u001b[0;34m,\u001b[0m \u001b[0mcv2\u001b[0m\u001b[0;34m.\u001b[0m\u001b[0mCOLOR_BGR2RGB\u001b[0m\u001b[0;34m)\u001b[0m\u001b[0;34m\u001b[0m\u001b[0;34m\u001b[0m\u001b[0m\n\u001b[0m\u001b[1;32m      6\u001b[0m \u001b[0;31m# Print the Shape of the Image\u001b[0m\u001b[0;34m\u001b[0m\u001b[0;34m\u001b[0m\u001b[0;34m\u001b[0m\u001b[0m\n\u001b[1;32m      7\u001b[0m \u001b[0mimg\u001b[0m\u001b[0;34m.\u001b[0m\u001b[0mshape\u001b[0m\u001b[0;34m\u001b[0m\u001b[0;34m\u001b[0m\u001b[0m\n",
            "\u001b[0;31merror\u001b[0m: OpenCV(4.1.2) /io/opencv/modules/imgproc/src/color.cpp:182: error: (-215:Assertion failed) !_src.empty() in function 'cvtColor'\n"
          ]
        }
      ]
    },
    {
      "cell_type": "code",
      "metadata": {
        "id": "wqh6nh6NS0Rs"
      },
      "source": [
        "%matplotlib inline\n",
        "\n",
        "import matplotlib.pyplot as plt\n",
        "#Plot the image\n",
        "plt.imshow(img"
      ],
      "execution_count": null,
      "outputs": []
    },
    {
      "cell_type": "markdown",
      "metadata": {
        "id": "aEQ1ZNX9T1yB"
      },
      "source": [
        "## Exploring different types of resizing options \n",
        "\n",
        "The Images can be resized in different ways. Some methods are as follows (as stated in OpenCV documentation) : \n",
        "\n",
        "<h3>Scaling</h3>\n",
        "<p>Scaling is just resizing of the image. OpenCV comes with a function <b>cv2.resize()</a></b> for this purpose. The size of the image can be specified manually, or you can specify the scaling factor. Different interpolation methods are used. Preferable interpolation methods are <b>cv2.INTER_AREA</b> for shrinking and <b>cv2.INTER_CUBIC</b> (slow) &amp; <b>cv2.INTER_LINEAR</b> for zooming. By default, interpolation method used is <b>cv2.INTER_LINEAR</b> for all resizing purposes.\n",
        "\n",
        "* cv2.INTER_AREA    ( Preferable for Shrinking ) \n",
        "* cv2.INTER_CUBIC   ( Preferable for Zooming but slow )\n",
        "* cv2.INTER_LINEAR  ( Preferable for Zooming and the default option "
      ]
    },
    {
      "cell_type": "markdown",
      "metadata": {
        "id": "X3mBCTciUM6_"
      },
      "source": [
        "\n",
        "\n",
        "---\n",
        "# Load Data\n"
      ]
    },
    {
      "cell_type": "code",
      "metadata": {
        "id": "c9icGFG42DMP",
        "colab": {
          "base_uri": "https://localhost:8080/"
        },
        "outputId": "933ba475-a828-4425-d863-c673ffeca659"
      },
      "source": [
        "def dummy():\n",
        "  pass\n",
        "\n",
        "def load_dataset(augment_fn = dummy):\n",
        "    import os\n",
        "    import cv2\n",
        "    from datetime import datetime\n",
        "    import numpy as np\n",
        "    import pandas as pd\n",
        "    from scipy import interpolate \n",
        "    import matplotlib.pyplot as plt\n",
        "\n",
        "    #Variables to be used later\n",
        "    filenames = []\n",
        "    labels =[]\n",
        "    i = 0  \n",
        "    #Read CSV file using Pandas\n",
        "    df = pd.read_csv('atlantic_storms.csv')\n",
        "\n",
        "    dir ='/content/gpubootcamp/tcdata/tcdat'\n",
        "    a = os.listdir(dir)\n",
        "\n",
        "    file_path = \"Dataset/Aug/\"\n",
        "    directory = os.path.dirname(file_path)\n",
        " \n",
        "    aug = 0 \n",
        "    for j in a :\n",
        "        c = os.listdir(dir+'/'+j)\n",
        "        for k in c :\n",
        "            d = os.listdir(dir+'/'+j+'/'+k)\n",
        "            for l in d :\n",
        "                print(l)\n",
        "                start_year= '20'+j[2:]+ '-01-01'\n",
        "                end_year= '20'+j[2:]+ '-12-31'\n",
        "                cyc_name = l[4:]\n",
        "                mask = (df['date'] > start_year ) & (df['date'] <= end_year ) & ( df['name'] == cyc_name )\n",
        "                cyc_pd = df.loc[mask]\n",
        "                first = (datetime.strptime(cyc_pd['date'].iloc[0], \"%Y-%m-%d %H:%M:%S\"))\n",
        "                last = (datetime.strptime(cyc_pd['date'].iloc[-1], \"%Y-%m-%d %H:%M:%S\"))\n",
        "                text_time=[]\n",
        "                text_vel=[]\n",
        "                for q in range(len(cyc_pd['date'])):\n",
        "                    text_vel.append(cyc_pd['maximum_sustained_wind_knots'].iloc[q])\n",
        "                    text_time.append((datetime.strptime(cyc_pd['date'].iloc[q],\"%Y-%m-%d %H:%M:%S\")-first).total_seconds())\n",
        "                func = interpolate.splrep(text_time,text_vel)\n",
        "                e = os.listdir(dir+'/'+j+'/'+k+'/'+l+'/ir/geo/1km')\n",
        "                e.sort()\n",
        "                for m in e :\n",
        "                    try :\n",
        "                        time=(datetime.strptime(m[:13], \"%Y%m%d.%H%M\"))\n",
        "                        name = dir+'/'+j+'/'+k+'/'+l+'/ir/geo/1km/'+m\n",
        "                        if(time>first and time < last):\n",
        "                            val = int(interpolate.splev((time-first).total_seconds(),func))\n",
        "                            filenames.append(name)\n",
        "                            if val <=20 :\n",
        "                                labels.append(0)\n",
        "                            elif val>20 and val <=33 :\n",
        "                                labels.append(1)\n",
        "                            elif val>33 and val <=63 :\n",
        "                                labels.append(2)\n",
        "                            elif val>63 and val <=82 :\n",
        "                                labels.append(3)\n",
        "                            elif val>82 and val <=95 :\n",
        "                                labels.append(4)\n",
        "                            elif val>95 and val <=112 :\n",
        "                                labels.append(5)\n",
        "                            elif val>112 and val <=136 :\n",
        "                                labels.append(6)\n",
        "                            elif val>136 :\n",
        "                                labels.append(7)\n",
        "                            i = augment_fn(name,labels[-1],filenames,labels,i)\n",
        "                    except :\n",
        "                        pass\n",
        "    print('')\n",
        "    print(len(filenames)) \n",
        "     # Shuffle The Data\n",
        "    import random\n",
        "    # Zip Images with Appropriate Labels before Shuffling\n",
        "    c = list(zip(filenames, labels))\n",
        "    random.shuffle(c)\n",
        "    #Unzip the Data Post Shuffling\n",
        "    filenames, labels = zip(*c)\n",
        "    filenames = list(filenames)\n",
        "    labels = list(labels)\n",
        "    return filenames,labels\n",
        "filenames,labels = load_dataset()\n",
        "print(filenames)\n",
        "print(labels)"
      ],
      "execution_count": null,
      "outputs": [
        {
          "output_type": "stream",
          "text": [
            "07L.GORDON\n",
            "08L.HELENE\n",
            "27L.BETA\n",
            "05L.EMILY\n",
            "18L.RITA\n",
            "04L.DENNIS\n",
            "12L.KATRINA\n",
            "25L.WILMA\n",
            "07L.FRED\n",
            "03L.BILL\n",
            "01L.ALEX\n",
            "03L.CHARLEY\n",
            "09L.IVAN\n",
            "06L.FRANCES\n",
            "11L.JEANNE\n",
            "12L.KARL\n",
            "12L.KATIA\n",
            "16L.OPHELIA\n",
            "09L.IRENE\n",
            "04L.DEAN\n",
            "06L.FELIX\n",
            "15L.OMAR\n",
            "07L.GUSTAV\n",
            "09L.IKE\n",
            "02L.BERTHA\n",
            "06L.EDOUARD\n",
            "07L.EARL\n",
            "06L.DANIELLE\n",
            "12L.JULIA\n",
            "11L.IGOR\n",
            "13L.KARL\n",
            "13L.MICHAEL\n"
          ],
          "name": "stdout"
        },
        {
          "output_type": "stream",
          "text": [
            "IOPub data rate exceeded.\n",
            "The notebook server will temporarily stop sending output\n",
            "to the client in order to avoid crashing it.\n",
            "To change this limit, set the config variable\n",
            "`--NotebookApp.iopub_data_rate_limit`.\n",
            "\n",
            "Current values:\n",
            "NotebookApp.iopub_data_rate_limit=1000000.0 (bytes/sec)\n",
            "NotebookApp.rate_limit_window=3.0 (secs)\n",
            "\n"
          ],
          "name": "stderr"
        }
      ]
    },
    {
      "cell_type": "markdown",
      "metadata": {
        "id": "qYtLGvokdUFO"
      },
      "source": [
        "# Annotating our dataset \n",
        "\n",
        "Let us start by taking an example of Katrina Hurricane from 2005 and scaling it for all the Cyclones"
      ]
    },
    {
      "cell_type": "code",
      "metadata": {
        "id": "AwS2QhrLdUFO",
        "colab": {
          "base_uri": "https://localhost:8080/",
          "height": 1000
        },
        "outputId": "1f07f95b-f3a6-4dab-a457-530211be7b8a"
      },
      "source": [
        "import pandas as pd\n",
        "# Read the CSV we saved earlier\n",
        "df = pd.read_csv('atlantic_storms.csv')\n",
        "# Create a Mask to Filter our Katrina Cyclone (2005)\n",
        "mask = (df['date'] > '2005-01-01') & (df['date'] <= '2006-01-01') & ( df['name'] == 'KATRINA')\n",
        "# Apply the Mask to the Original Data Frame and Extract the new Dataframe\n",
        "new_df = df.loc[mask]\n",
        "new_df"
      ],
      "execution_count": null,
      "outputs": [
        {
          "output_type": "execute_result",
          "data": {
            "text/html": [
              "<div>\n",
              "<style scoped>\n",
              "    .dataframe tbody tr th:only-of-type {\n",
              "        vertical-align: middle;\n",
              "    }\n",
              "\n",
              "    .dataframe tbody tr th {\n",
              "        vertical-align: top;\n",
              "    }\n",
              "\n",
              "    .dataframe thead th {\n",
              "        text-align: right;\n",
              "    }\n",
              "</style>\n",
              "<table border=\"1\" class=\"dataframe\">\n",
              "  <thead>\n",
              "    <tr style=\"text-align: right;\">\n",
              "      <th></th>\n",
              "      <th>Unnamed: 0</th>\n",
              "      <th>index</th>\n",
              "      <th>id</th>\n",
              "      <th>name</th>\n",
              "      <th>date</th>\n",
              "      <th>record_identifier</th>\n",
              "      <th>status_of_system</th>\n",
              "      <th>latitude</th>\n",
              "      <th>longitude</th>\n",
              "      <th>maximum_sustained_wind_knots</th>\n",
              "      <th>maximum_pressure</th>\n",
              "      <th>34_kt_ne</th>\n",
              "      <th>34_kt_se</th>\n",
              "      <th>34_kt_sw</th>\n",
              "      <th>34_kt_nw</th>\n",
              "      <th>50_kt_ne</th>\n",
              "      <th>50_kt_se</th>\n",
              "      <th>50_kt_sw</th>\n",
              "      <th>50_kt_nw</th>\n",
              "      <th>64_kt_ne</th>\n",
              "      <th>64_kt_se</th>\n",
              "      <th>64_kt_sw</th>\n",
              "      <th>64_kt_nw</th>\n",
              "    </tr>\n",
              "  </thead>\n",
              "  <tbody>\n",
              "    <tr>\n",
              "      <th>44500</th>\n",
              "      <td>44500</td>\n",
              "      <td>44500</td>\n",
              "      <td>AL122005</td>\n",
              "      <td>KATRINA</td>\n",
              "      <td>2005-08-23 18:00:00</td>\n",
              "      <td>NaN</td>\n",
              "      <td>TD</td>\n",
              "      <td>23.1N</td>\n",
              "      <td>75.1W</td>\n",
              "      <td>30</td>\n",
              "      <td>1008.0</td>\n",
              "      <td>0.0</td>\n",
              "      <td>0.0</td>\n",
              "      <td>0.0</td>\n",
              "      <td>0.0</td>\n",
              "      <td>0.0</td>\n",
              "      <td>0.0</td>\n",
              "      <td>0.0</td>\n",
              "      <td>0.0</td>\n",
              "      <td>0.0</td>\n",
              "      <td>0.0</td>\n",
              "      <td>0.0</td>\n",
              "      <td>0.0</td>\n",
              "    </tr>\n",
              "    <tr>\n",
              "      <th>44501</th>\n",
              "      <td>44501</td>\n",
              "      <td>44501</td>\n",
              "      <td>AL122005</td>\n",
              "      <td>KATRINA</td>\n",
              "      <td>2005-08-24 00:00:00</td>\n",
              "      <td>NaN</td>\n",
              "      <td>TD</td>\n",
              "      <td>23.4N</td>\n",
              "      <td>75.7W</td>\n",
              "      <td>30</td>\n",
              "      <td>1007.0</td>\n",
              "      <td>0.0</td>\n",
              "      <td>0.0</td>\n",
              "      <td>0.0</td>\n",
              "      <td>0.0</td>\n",
              "      <td>0.0</td>\n",
              "      <td>0.0</td>\n",
              "      <td>0.0</td>\n",
              "      <td>0.0</td>\n",
              "      <td>0.0</td>\n",
              "      <td>0.0</td>\n",
              "      <td>0.0</td>\n",
              "      <td>0.0</td>\n",
              "    </tr>\n",
              "    <tr>\n",
              "      <th>44502</th>\n",
              "      <td>44502</td>\n",
              "      <td>44502</td>\n",
              "      <td>AL122005</td>\n",
              "      <td>KATRINA</td>\n",
              "      <td>2005-08-24 06:00:00</td>\n",
              "      <td>NaN</td>\n",
              "      <td>TD</td>\n",
              "      <td>23.8N</td>\n",
              "      <td>76.2W</td>\n",
              "      <td>30</td>\n",
              "      <td>1007.0</td>\n",
              "      <td>0.0</td>\n",
              "      <td>0.0</td>\n",
              "      <td>0.0</td>\n",
              "      <td>0.0</td>\n",
              "      <td>0.0</td>\n",
              "      <td>0.0</td>\n",
              "      <td>0.0</td>\n",
              "      <td>0.0</td>\n",
              "      <td>0.0</td>\n",
              "      <td>0.0</td>\n",
              "      <td>0.0</td>\n",
              "      <td>0.0</td>\n",
              "    </tr>\n",
              "    <tr>\n",
              "      <th>44503</th>\n",
              "      <td>44503</td>\n",
              "      <td>44503</td>\n",
              "      <td>AL122005</td>\n",
              "      <td>KATRINA</td>\n",
              "      <td>2005-08-24 12:00:00</td>\n",
              "      <td>NaN</td>\n",
              "      <td>TS</td>\n",
              "      <td>24.5N</td>\n",
              "      <td>76.5W</td>\n",
              "      <td>35</td>\n",
              "      <td>1006.0</td>\n",
              "      <td>60.0</td>\n",
              "      <td>60.0</td>\n",
              "      <td>0.0</td>\n",
              "      <td>0.0</td>\n",
              "      <td>0.0</td>\n",
              "      <td>0.0</td>\n",
              "      <td>0.0</td>\n",
              "      <td>0.0</td>\n",
              "      <td>0.0</td>\n",
              "      <td>0.0</td>\n",
              "      <td>0.0</td>\n",
              "      <td>0.0</td>\n",
              "    </tr>\n",
              "    <tr>\n",
              "      <th>44504</th>\n",
              "      <td>44504</td>\n",
              "      <td>44504</td>\n",
              "      <td>AL122005</td>\n",
              "      <td>KATRINA</td>\n",
              "      <td>2005-08-24 18:00:00</td>\n",
              "      <td>NaN</td>\n",
              "      <td>TS</td>\n",
              "      <td>25.4N</td>\n",
              "      <td>76.9W</td>\n",
              "      <td>40</td>\n",
              "      <td>1003.0</td>\n",
              "      <td>60.0</td>\n",
              "      <td>60.0</td>\n",
              "      <td>0.0</td>\n",
              "      <td>0.0</td>\n",
              "      <td>0.0</td>\n",
              "      <td>0.0</td>\n",
              "      <td>0.0</td>\n",
              "      <td>0.0</td>\n",
              "      <td>0.0</td>\n",
              "      <td>0.0</td>\n",
              "      <td>0.0</td>\n",
              "      <td>0.0</td>\n",
              "    </tr>\n",
              "    <tr>\n",
              "      <th>44505</th>\n",
              "      <td>44505</td>\n",
              "      <td>44505</td>\n",
              "      <td>AL122005</td>\n",
              "      <td>KATRINA</td>\n",
              "      <td>2005-08-25 00:00:00</td>\n",
              "      <td>NaN</td>\n",
              "      <td>TS</td>\n",
              "      <td>26.0N</td>\n",
              "      <td>77.7W</td>\n",
              "      <td>45</td>\n",
              "      <td>1000.0</td>\n",
              "      <td>60.0</td>\n",
              "      <td>60.0</td>\n",
              "      <td>0.0</td>\n",
              "      <td>0.0</td>\n",
              "      <td>0.0</td>\n",
              "      <td>0.0</td>\n",
              "      <td>0.0</td>\n",
              "      <td>0.0</td>\n",
              "      <td>0.0</td>\n",
              "      <td>0.0</td>\n",
              "      <td>0.0</td>\n",
              "      <td>0.0</td>\n",
              "    </tr>\n",
              "    <tr>\n",
              "      <th>44506</th>\n",
              "      <td>44506</td>\n",
              "      <td>44506</td>\n",
              "      <td>AL122005</td>\n",
              "      <td>KATRINA</td>\n",
              "      <td>2005-08-25 06:00:00</td>\n",
              "      <td>NaN</td>\n",
              "      <td>TS</td>\n",
              "      <td>26.1N</td>\n",
              "      <td>78.4W</td>\n",
              "      <td>50</td>\n",
              "      <td>997.0</td>\n",
              "      <td>60.0</td>\n",
              "      <td>60.0</td>\n",
              "      <td>0.0</td>\n",
              "      <td>0.0</td>\n",
              "      <td>15.0</td>\n",
              "      <td>0.0</td>\n",
              "      <td>0.0</td>\n",
              "      <td>0.0</td>\n",
              "      <td>0.0</td>\n",
              "      <td>0.0</td>\n",
              "      <td>0.0</td>\n",
              "      <td>0.0</td>\n",
              "    </tr>\n",
              "    <tr>\n",
              "      <th>44507</th>\n",
              "      <td>44507</td>\n",
              "      <td>44507</td>\n",
              "      <td>AL122005</td>\n",
              "      <td>KATRINA</td>\n",
              "      <td>2005-08-25 12:00:00</td>\n",
              "      <td>NaN</td>\n",
              "      <td>TS</td>\n",
              "      <td>26.2N</td>\n",
              "      <td>79.0W</td>\n",
              "      <td>55</td>\n",
              "      <td>994.0</td>\n",
              "      <td>60.0</td>\n",
              "      <td>60.0</td>\n",
              "      <td>30.0</td>\n",
              "      <td>50.0</td>\n",
              "      <td>20.0</td>\n",
              "      <td>20.0</td>\n",
              "      <td>0.0</td>\n",
              "      <td>0.0</td>\n",
              "      <td>0.0</td>\n",
              "      <td>0.0</td>\n",
              "      <td>0.0</td>\n",
              "      <td>0.0</td>\n",
              "    </tr>\n",
              "    <tr>\n",
              "      <th>44508</th>\n",
              "      <td>44508</td>\n",
              "      <td>44508</td>\n",
              "      <td>AL122005</td>\n",
              "      <td>KATRINA</td>\n",
              "      <td>2005-08-25 18:00:00</td>\n",
              "      <td>NaN</td>\n",
              "      <td>TS</td>\n",
              "      <td>26.2N</td>\n",
              "      <td>79.6W</td>\n",
              "      <td>60</td>\n",
              "      <td>988.0</td>\n",
              "      <td>70.0</td>\n",
              "      <td>70.0</td>\n",
              "      <td>50.0</td>\n",
              "      <td>60.0</td>\n",
              "      <td>25.0</td>\n",
              "      <td>25.0</td>\n",
              "      <td>20.0</td>\n",
              "      <td>20.0</td>\n",
              "      <td>0.0</td>\n",
              "      <td>0.0</td>\n",
              "      <td>0.0</td>\n",
              "      <td>0.0</td>\n",
              "    </tr>\n",
              "    <tr>\n",
              "      <th>44509</th>\n",
              "      <td>44509</td>\n",
              "      <td>44509</td>\n",
              "      <td>AL122005</td>\n",
              "      <td>KATRINA</td>\n",
              "      <td>2005-08-25 22:30:00</td>\n",
              "      <td>L</td>\n",
              "      <td>HU</td>\n",
              "      <td>26.0N</td>\n",
              "      <td>80.1W</td>\n",
              "      <td>70</td>\n",
              "      <td>984.0</td>\n",
              "      <td>NaN</td>\n",
              "      <td>NaN</td>\n",
              "      <td>NaN</td>\n",
              "      <td>NaN</td>\n",
              "      <td>NaN</td>\n",
              "      <td>NaN</td>\n",
              "      <td>NaN</td>\n",
              "      <td>NaN</td>\n",
              "      <td>NaN</td>\n",
              "      <td>NaN</td>\n",
              "      <td>NaN</td>\n",
              "      <td>NaN</td>\n",
              "    </tr>\n",
              "    <tr>\n",
              "      <th>44510</th>\n",
              "      <td>44510</td>\n",
              "      <td>44510</td>\n",
              "      <td>AL122005</td>\n",
              "      <td>KATRINA</td>\n",
              "      <td>2005-08-26 00:00:00</td>\n",
              "      <td>NaN</td>\n",
              "      <td>HU</td>\n",
              "      <td>25.9N</td>\n",
              "      <td>80.3W</td>\n",
              "      <td>70</td>\n",
              "      <td>983.0</td>\n",
              "      <td>70.0</td>\n",
              "      <td>70.0</td>\n",
              "      <td>50.0</td>\n",
              "      <td>40.0</td>\n",
              "      <td>20.0</td>\n",
              "      <td>20.0</td>\n",
              "      <td>20.0</td>\n",
              "      <td>20.0</td>\n",
              "      <td>10.0</td>\n",
              "      <td>10.0</td>\n",
              "      <td>10.0</td>\n",
              "      <td>10.0</td>\n",
              "    </tr>\n",
              "    <tr>\n",
              "      <th>44511</th>\n",
              "      <td>44511</td>\n",
              "      <td>44511</td>\n",
              "      <td>AL122005</td>\n",
              "      <td>KATRINA</td>\n",
              "      <td>2005-08-26 06:00:00</td>\n",
              "      <td>NaN</td>\n",
              "      <td>HU</td>\n",
              "      <td>25.4N</td>\n",
              "      <td>81.3W</td>\n",
              "      <td>65</td>\n",
              "      <td>987.0</td>\n",
              "      <td>75.0</td>\n",
              "      <td>75.0</td>\n",
              "      <td>40.0</td>\n",
              "      <td>30.0</td>\n",
              "      <td>60.0</td>\n",
              "      <td>60.0</td>\n",
              "      <td>20.0</td>\n",
              "      <td>20.0</td>\n",
              "      <td>10.0</td>\n",
              "      <td>10.0</td>\n",
              "      <td>10.0</td>\n",
              "      <td>10.0</td>\n",
              "    </tr>\n",
              "    <tr>\n",
              "      <th>44512</th>\n",
              "      <td>44512</td>\n",
              "      <td>44512</td>\n",
              "      <td>AL122005</td>\n",
              "      <td>KATRINA</td>\n",
              "      <td>2005-08-26 12:00:00</td>\n",
              "      <td>NaN</td>\n",
              "      <td>HU</td>\n",
              "      <td>25.1N</td>\n",
              "      <td>82.0W</td>\n",
              "      <td>75</td>\n",
              "      <td>979.0</td>\n",
              "      <td>75.0</td>\n",
              "      <td>75.0</td>\n",
              "      <td>45.0</td>\n",
              "      <td>25.0</td>\n",
              "      <td>60.0</td>\n",
              "      <td>60.0</td>\n",
              "      <td>25.0</td>\n",
              "      <td>20.0</td>\n",
              "      <td>20.0</td>\n",
              "      <td>20.0</td>\n",
              "      <td>10.0</td>\n",
              "      <td>10.0</td>\n",
              "    </tr>\n",
              "    <tr>\n",
              "      <th>44513</th>\n",
              "      <td>44513</td>\n",
              "      <td>44513</td>\n",
              "      <td>AL122005</td>\n",
              "      <td>KATRINA</td>\n",
              "      <td>2005-08-26 18:00:00</td>\n",
              "      <td>NaN</td>\n",
              "      <td>HU</td>\n",
              "      <td>24.9N</td>\n",
              "      <td>82.6W</td>\n",
              "      <td>85</td>\n",
              "      <td>968.0</td>\n",
              "      <td>75.0</td>\n",
              "      <td>75.0</td>\n",
              "      <td>55.0</td>\n",
              "      <td>35.0</td>\n",
              "      <td>60.0</td>\n",
              "      <td>60.0</td>\n",
              "      <td>35.0</td>\n",
              "      <td>20.0</td>\n",
              "      <td>20.0</td>\n",
              "      <td>20.0</td>\n",
              "      <td>15.0</td>\n",
              "      <td>10.0</td>\n",
              "    </tr>\n",
              "    <tr>\n",
              "      <th>44514</th>\n",
              "      <td>44514</td>\n",
              "      <td>44514</td>\n",
              "      <td>AL122005</td>\n",
              "      <td>KATRINA</td>\n",
              "      <td>2005-08-27 00:00:00</td>\n",
              "      <td>NaN</td>\n",
              "      <td>HU</td>\n",
              "      <td>24.6N</td>\n",
              "      <td>83.3W</td>\n",
              "      <td>90</td>\n",
              "      <td>959.0</td>\n",
              "      <td>90.0</td>\n",
              "      <td>75.0</td>\n",
              "      <td>75.0</td>\n",
              "      <td>75.0</td>\n",
              "      <td>60.0</td>\n",
              "      <td>60.0</td>\n",
              "      <td>40.0</td>\n",
              "      <td>30.0</td>\n",
              "      <td>25.0</td>\n",
              "      <td>25.0</td>\n",
              "      <td>20.0</td>\n",
              "      <td>15.0</td>\n",
              "    </tr>\n",
              "    <tr>\n",
              "      <th>44515</th>\n",
              "      <td>44515</td>\n",
              "      <td>44515</td>\n",
              "      <td>AL122005</td>\n",
              "      <td>KATRINA</td>\n",
              "      <td>2005-08-27 06:00:00</td>\n",
              "      <td>NaN</td>\n",
              "      <td>HU</td>\n",
              "      <td>24.4N</td>\n",
              "      <td>84.0W</td>\n",
              "      <td>95</td>\n",
              "      <td>950.0</td>\n",
              "      <td>130.0</td>\n",
              "      <td>90.0</td>\n",
              "      <td>90.0</td>\n",
              "      <td>130.0</td>\n",
              "      <td>60.0</td>\n",
              "      <td>60.0</td>\n",
              "      <td>45.0</td>\n",
              "      <td>60.0</td>\n",
              "      <td>35.0</td>\n",
              "      <td>30.0</td>\n",
              "      <td>30.0</td>\n",
              "      <td>25.0</td>\n",
              "    </tr>\n",
              "    <tr>\n",
              "      <th>44516</th>\n",
              "      <td>44516</td>\n",
              "      <td>44516</td>\n",
              "      <td>AL122005</td>\n",
              "      <td>KATRINA</td>\n",
              "      <td>2005-08-27 12:00:00</td>\n",
              "      <td>NaN</td>\n",
              "      <td>HU</td>\n",
              "      <td>24.4N</td>\n",
              "      <td>84.7W</td>\n",
              "      <td>100</td>\n",
              "      <td>942.0</td>\n",
              "      <td>130.0</td>\n",
              "      <td>90.0</td>\n",
              "      <td>90.0</td>\n",
              "      <td>130.0</td>\n",
              "      <td>60.0</td>\n",
              "      <td>60.0</td>\n",
              "      <td>45.0</td>\n",
              "      <td>60.0</td>\n",
              "      <td>35.0</td>\n",
              "      <td>30.0</td>\n",
              "      <td>30.0</td>\n",
              "      <td>25.0</td>\n",
              "    </tr>\n",
              "    <tr>\n",
              "      <th>44517</th>\n",
              "      <td>44517</td>\n",
              "      <td>44517</td>\n",
              "      <td>AL122005</td>\n",
              "      <td>KATRINA</td>\n",
              "      <td>2005-08-27 18:00:00</td>\n",
              "      <td>NaN</td>\n",
              "      <td>HU</td>\n",
              "      <td>24.5N</td>\n",
              "      <td>85.3W</td>\n",
              "      <td>100</td>\n",
              "      <td>948.0</td>\n",
              "      <td>140.0</td>\n",
              "      <td>90.0</td>\n",
              "      <td>90.0</td>\n",
              "      <td>130.0</td>\n",
              "      <td>70.0</td>\n",
              "      <td>70.0</td>\n",
              "      <td>60.0</td>\n",
              "      <td>70.0</td>\n",
              "      <td>45.0</td>\n",
              "      <td>35.0</td>\n",
              "      <td>35.0</td>\n",
              "      <td>35.0</td>\n",
              "    </tr>\n",
              "    <tr>\n",
              "      <th>44518</th>\n",
              "      <td>44518</td>\n",
              "      <td>44518</td>\n",
              "      <td>AL122005</td>\n",
              "      <td>KATRINA</td>\n",
              "      <td>2005-08-28 00:00:00</td>\n",
              "      <td>NaN</td>\n",
              "      <td>HU</td>\n",
              "      <td>24.8N</td>\n",
              "      <td>85.9W</td>\n",
              "      <td>100</td>\n",
              "      <td>941.0</td>\n",
              "      <td>140.0</td>\n",
              "      <td>100.0</td>\n",
              "      <td>100.0</td>\n",
              "      <td>140.0</td>\n",
              "      <td>80.0</td>\n",
              "      <td>80.0</td>\n",
              "      <td>65.0</td>\n",
              "      <td>80.0</td>\n",
              "      <td>60.0</td>\n",
              "      <td>45.0</td>\n",
              "      <td>45.0</td>\n",
              "      <td>50.0</td>\n",
              "    </tr>\n",
              "    <tr>\n",
              "      <th>44519</th>\n",
              "      <td>44519</td>\n",
              "      <td>44519</td>\n",
              "      <td>AL122005</td>\n",
              "      <td>KATRINA</td>\n",
              "      <td>2005-08-28 06:00:00</td>\n",
              "      <td>NaN</td>\n",
              "      <td>HU</td>\n",
              "      <td>25.2N</td>\n",
              "      <td>86.7W</td>\n",
              "      <td>125</td>\n",
              "      <td>930.0</td>\n",
              "      <td>160.0</td>\n",
              "      <td>160.0</td>\n",
              "      <td>125.0</td>\n",
              "      <td>140.0</td>\n",
              "      <td>100.0</td>\n",
              "      <td>100.0</td>\n",
              "      <td>75.0</td>\n",
              "      <td>100.0</td>\n",
              "      <td>75.0</td>\n",
              "      <td>75.0</td>\n",
              "      <td>50.0</td>\n",
              "      <td>75.0</td>\n",
              "    </tr>\n",
              "    <tr>\n",
              "      <th>44520</th>\n",
              "      <td>44520</td>\n",
              "      <td>44520</td>\n",
              "      <td>AL122005</td>\n",
              "      <td>KATRINA</td>\n",
              "      <td>2005-08-28 12:00:00</td>\n",
              "      <td>NaN</td>\n",
              "      <td>HU</td>\n",
              "      <td>25.7N</td>\n",
              "      <td>87.7W</td>\n",
              "      <td>145</td>\n",
              "      <td>909.0</td>\n",
              "      <td>180.0</td>\n",
              "      <td>180.0</td>\n",
              "      <td>125.0</td>\n",
              "      <td>140.0</td>\n",
              "      <td>120.0</td>\n",
              "      <td>120.0</td>\n",
              "      <td>75.0</td>\n",
              "      <td>100.0</td>\n",
              "      <td>90.0</td>\n",
              "      <td>90.0</td>\n",
              "      <td>50.0</td>\n",
              "      <td>75.0</td>\n",
              "    </tr>\n",
              "    <tr>\n",
              "      <th>44521</th>\n",
              "      <td>44521</td>\n",
              "      <td>44521</td>\n",
              "      <td>AL122005</td>\n",
              "      <td>KATRINA</td>\n",
              "      <td>2005-08-28 18:00:00</td>\n",
              "      <td>NaN</td>\n",
              "      <td>HU</td>\n",
              "      <td>26.3N</td>\n",
              "      <td>88.6W</td>\n",
              "      <td>150</td>\n",
              "      <td>902.0</td>\n",
              "      <td>200.0</td>\n",
              "      <td>180.0</td>\n",
              "      <td>125.0</td>\n",
              "      <td>180.0</td>\n",
              "      <td>120.0</td>\n",
              "      <td>120.0</td>\n",
              "      <td>75.0</td>\n",
              "      <td>120.0</td>\n",
              "      <td>90.0</td>\n",
              "      <td>90.0</td>\n",
              "      <td>50.0</td>\n",
              "      <td>90.0</td>\n",
              "    </tr>\n",
              "    <tr>\n",
              "      <th>44522</th>\n",
              "      <td>44522</td>\n",
              "      <td>44522</td>\n",
              "      <td>AL122005</td>\n",
              "      <td>KATRINA</td>\n",
              "      <td>2005-08-29 00:00:00</td>\n",
              "      <td>NaN</td>\n",
              "      <td>HU</td>\n",
              "      <td>27.2N</td>\n",
              "      <td>89.2W</td>\n",
              "      <td>140</td>\n",
              "      <td>905.0</td>\n",
              "      <td>200.0</td>\n",
              "      <td>200.0</td>\n",
              "      <td>150.0</td>\n",
              "      <td>180.0</td>\n",
              "      <td>120.0</td>\n",
              "      <td>120.0</td>\n",
              "      <td>75.0</td>\n",
              "      <td>100.0</td>\n",
              "      <td>90.0</td>\n",
              "      <td>90.0</td>\n",
              "      <td>60.0</td>\n",
              "      <td>80.0</td>\n",
              "    </tr>\n",
              "    <tr>\n",
              "      <th>44523</th>\n",
              "      <td>44523</td>\n",
              "      <td>44523</td>\n",
              "      <td>AL122005</td>\n",
              "      <td>KATRINA</td>\n",
              "      <td>2005-08-29 06:00:00</td>\n",
              "      <td>NaN</td>\n",
              "      <td>HU</td>\n",
              "      <td>28.2N</td>\n",
              "      <td>89.6W</td>\n",
              "      <td>125</td>\n",
              "      <td>913.0</td>\n",
              "      <td>200.0</td>\n",
              "      <td>200.0</td>\n",
              "      <td>150.0</td>\n",
              "      <td>150.0</td>\n",
              "      <td>120.0</td>\n",
              "      <td>120.0</td>\n",
              "      <td>75.0</td>\n",
              "      <td>100.0</td>\n",
              "      <td>90.0</td>\n",
              "      <td>90.0</td>\n",
              "      <td>60.0</td>\n",
              "      <td>70.0</td>\n",
              "    </tr>\n",
              "    <tr>\n",
              "      <th>44524</th>\n",
              "      <td>44524</td>\n",
              "      <td>44524</td>\n",
              "      <td>AL122005</td>\n",
              "      <td>KATRINA</td>\n",
              "      <td>2005-08-29 11:10:00</td>\n",
              "      <td>L</td>\n",
              "      <td>HU</td>\n",
              "      <td>29.3N</td>\n",
              "      <td>89.6W</td>\n",
              "      <td>110</td>\n",
              "      <td>920.0</td>\n",
              "      <td>NaN</td>\n",
              "      <td>NaN</td>\n",
              "      <td>NaN</td>\n",
              "      <td>NaN</td>\n",
              "      <td>NaN</td>\n",
              "      <td>NaN</td>\n",
              "      <td>NaN</td>\n",
              "      <td>NaN</td>\n",
              "      <td>NaN</td>\n",
              "      <td>NaN</td>\n",
              "      <td>NaN</td>\n",
              "      <td>NaN</td>\n",
              "    </tr>\n",
              "    <tr>\n",
              "      <th>44525</th>\n",
              "      <td>44525</td>\n",
              "      <td>44525</td>\n",
              "      <td>AL122005</td>\n",
              "      <td>KATRINA</td>\n",
              "      <td>2005-08-29 12:00:00</td>\n",
              "      <td>NaN</td>\n",
              "      <td>HU</td>\n",
              "      <td>29.5N</td>\n",
              "      <td>89.6W</td>\n",
              "      <td>110</td>\n",
              "      <td>923.0</td>\n",
              "      <td>200.0</td>\n",
              "      <td>200.0</td>\n",
              "      <td>150.0</td>\n",
              "      <td>100.0</td>\n",
              "      <td>120.0</td>\n",
              "      <td>120.0</td>\n",
              "      <td>75.0</td>\n",
              "      <td>75.0</td>\n",
              "      <td>90.0</td>\n",
              "      <td>90.0</td>\n",
              "      <td>60.0</td>\n",
              "      <td>60.0</td>\n",
              "    </tr>\n",
              "    <tr>\n",
              "      <th>44526</th>\n",
              "      <td>44526</td>\n",
              "      <td>44526</td>\n",
              "      <td>AL122005</td>\n",
              "      <td>KATRINA</td>\n",
              "      <td>2005-08-29 14:45:00</td>\n",
              "      <td>L</td>\n",
              "      <td>HU</td>\n",
              "      <td>30.2N</td>\n",
              "      <td>89.6W</td>\n",
              "      <td>105</td>\n",
              "      <td>928.0</td>\n",
              "      <td>NaN</td>\n",
              "      <td>NaN</td>\n",
              "      <td>NaN</td>\n",
              "      <td>NaN</td>\n",
              "      <td>NaN</td>\n",
              "      <td>NaN</td>\n",
              "      <td>NaN</td>\n",
              "      <td>NaN</td>\n",
              "      <td>NaN</td>\n",
              "      <td>NaN</td>\n",
              "      <td>NaN</td>\n",
              "      <td>NaN</td>\n",
              "    </tr>\n",
              "    <tr>\n",
              "      <th>44527</th>\n",
              "      <td>44527</td>\n",
              "      <td>44527</td>\n",
              "      <td>AL122005</td>\n",
              "      <td>KATRINA</td>\n",
              "      <td>2005-08-29 18:00:00</td>\n",
              "      <td>NaN</td>\n",
              "      <td>HU</td>\n",
              "      <td>31.1N</td>\n",
              "      <td>89.6W</td>\n",
              "      <td>80</td>\n",
              "      <td>948.0</td>\n",
              "      <td>100.0</td>\n",
              "      <td>180.0</td>\n",
              "      <td>100.0</td>\n",
              "      <td>100.0</td>\n",
              "      <td>75.0</td>\n",
              "      <td>100.0</td>\n",
              "      <td>75.0</td>\n",
              "      <td>75.0</td>\n",
              "      <td>50.0</td>\n",
              "      <td>50.0</td>\n",
              "      <td>30.0</td>\n",
              "      <td>30.0</td>\n",
              "    </tr>\n",
              "    <tr>\n",
              "      <th>44528</th>\n",
              "      <td>44528</td>\n",
              "      <td>44528</td>\n",
              "      <td>AL122005</td>\n",
              "      <td>KATRINA</td>\n",
              "      <td>2005-08-30 00:00:00</td>\n",
              "      <td>NaN</td>\n",
              "      <td>TS</td>\n",
              "      <td>32.6N</td>\n",
              "      <td>89.1W</td>\n",
              "      <td>50</td>\n",
              "      <td>961.0</td>\n",
              "      <td>75.0</td>\n",
              "      <td>90.0</td>\n",
              "      <td>90.0</td>\n",
              "      <td>50.0</td>\n",
              "      <td>50.0</td>\n",
              "      <td>60.0</td>\n",
              "      <td>0.0</td>\n",
              "      <td>0.0</td>\n",
              "      <td>0.0</td>\n",
              "      <td>0.0</td>\n",
              "      <td>0.0</td>\n",
              "      <td>0.0</td>\n",
              "    </tr>\n",
              "    <tr>\n",
              "      <th>44529</th>\n",
              "      <td>44529</td>\n",
              "      <td>44529</td>\n",
              "      <td>AL122005</td>\n",
              "      <td>KATRINA</td>\n",
              "      <td>2005-08-30 06:00:00</td>\n",
              "      <td>NaN</td>\n",
              "      <td>TS</td>\n",
              "      <td>34.1N</td>\n",
              "      <td>88.6W</td>\n",
              "      <td>40</td>\n",
              "      <td>978.0</td>\n",
              "      <td>75.0</td>\n",
              "      <td>90.0</td>\n",
              "      <td>75.0</td>\n",
              "      <td>50.0</td>\n",
              "      <td>0.0</td>\n",
              "      <td>0.0</td>\n",
              "      <td>0.0</td>\n",
              "      <td>0.0</td>\n",
              "      <td>0.0</td>\n",
              "      <td>0.0</td>\n",
              "      <td>0.0</td>\n",
              "      <td>0.0</td>\n",
              "    </tr>\n",
              "    <tr>\n",
              "      <th>44530</th>\n",
              "      <td>44530</td>\n",
              "      <td>44530</td>\n",
              "      <td>AL122005</td>\n",
              "      <td>KATRINA</td>\n",
              "      <td>2005-08-30 12:00:00</td>\n",
              "      <td>NaN</td>\n",
              "      <td>TD</td>\n",
              "      <td>35.6N</td>\n",
              "      <td>88.0W</td>\n",
              "      <td>30</td>\n",
              "      <td>985.0</td>\n",
              "      <td>0.0</td>\n",
              "      <td>0.0</td>\n",
              "      <td>0.0</td>\n",
              "      <td>0.0</td>\n",
              "      <td>0.0</td>\n",
              "      <td>0.0</td>\n",
              "      <td>0.0</td>\n",
              "      <td>0.0</td>\n",
              "      <td>0.0</td>\n",
              "      <td>0.0</td>\n",
              "      <td>0.0</td>\n",
              "      <td>0.0</td>\n",
              "    </tr>\n",
              "    <tr>\n",
              "      <th>44531</th>\n",
              "      <td>44531</td>\n",
              "      <td>44531</td>\n",
              "      <td>AL122005</td>\n",
              "      <td>KATRINA</td>\n",
              "      <td>2005-08-30 18:00:00</td>\n",
              "      <td>NaN</td>\n",
              "      <td>TD</td>\n",
              "      <td>37.0N</td>\n",
              "      <td>87.0W</td>\n",
              "      <td>30</td>\n",
              "      <td>990.0</td>\n",
              "      <td>0.0</td>\n",
              "      <td>0.0</td>\n",
              "      <td>0.0</td>\n",
              "      <td>0.0</td>\n",
              "      <td>0.0</td>\n",
              "      <td>0.0</td>\n",
              "      <td>0.0</td>\n",
              "      <td>0.0</td>\n",
              "      <td>0.0</td>\n",
              "      <td>0.0</td>\n",
              "      <td>0.0</td>\n",
              "      <td>0.0</td>\n",
              "    </tr>\n",
              "    <tr>\n",
              "      <th>44532</th>\n",
              "      <td>44532</td>\n",
              "      <td>44532</td>\n",
              "      <td>AL122005</td>\n",
              "      <td>KATRINA</td>\n",
              "      <td>2005-08-31 00:00:00</td>\n",
              "      <td>NaN</td>\n",
              "      <td>EX</td>\n",
              "      <td>38.6N</td>\n",
              "      <td>85.3W</td>\n",
              "      <td>30</td>\n",
              "      <td>994.0</td>\n",
              "      <td>0.0</td>\n",
              "      <td>0.0</td>\n",
              "      <td>0.0</td>\n",
              "      <td>0.0</td>\n",
              "      <td>0.0</td>\n",
              "      <td>0.0</td>\n",
              "      <td>0.0</td>\n",
              "      <td>0.0</td>\n",
              "      <td>0.0</td>\n",
              "      <td>0.0</td>\n",
              "      <td>0.0</td>\n",
              "      <td>0.0</td>\n",
              "    </tr>\n",
              "    <tr>\n",
              "      <th>44533</th>\n",
              "      <td>44533</td>\n",
              "      <td>44533</td>\n",
              "      <td>AL122005</td>\n",
              "      <td>KATRINA</td>\n",
              "      <td>2005-08-31 06:00:00</td>\n",
              "      <td>NaN</td>\n",
              "      <td>EX</td>\n",
              "      <td>40.1N</td>\n",
              "      <td>82.9W</td>\n",
              "      <td>25</td>\n",
              "      <td>996.0</td>\n",
              "      <td>0.0</td>\n",
              "      <td>0.0</td>\n",
              "      <td>0.0</td>\n",
              "      <td>0.0</td>\n",
              "      <td>0.0</td>\n",
              "      <td>0.0</td>\n",
              "      <td>0.0</td>\n",
              "      <td>0.0</td>\n",
              "      <td>0.0</td>\n",
              "      <td>0.0</td>\n",
              "      <td>0.0</td>\n",
              "      <td>0.0</td>\n",
              "    </tr>\n",
              "  </tbody>\n",
              "</table>\n",
              "</div>"
            ],
            "text/plain": [
              "       Unnamed: 0  index        id  ... 64_kt_se 64_kt_sw 64_kt_nw\n",
              "44500       44500  44500  AL122005  ...      0.0      0.0      0.0\n",
              "44501       44501  44501  AL122005  ...      0.0      0.0      0.0\n",
              "44502       44502  44502  AL122005  ...      0.0      0.0      0.0\n",
              "44503       44503  44503  AL122005  ...      0.0      0.0      0.0\n",
              "44504       44504  44504  AL122005  ...      0.0      0.0      0.0\n",
              "44505       44505  44505  AL122005  ...      0.0      0.0      0.0\n",
              "44506       44506  44506  AL122005  ...      0.0      0.0      0.0\n",
              "44507       44507  44507  AL122005  ...      0.0      0.0      0.0\n",
              "44508       44508  44508  AL122005  ...      0.0      0.0      0.0\n",
              "44509       44509  44509  AL122005  ...      NaN      NaN      NaN\n",
              "44510       44510  44510  AL122005  ...     10.0     10.0     10.0\n",
              "44511       44511  44511  AL122005  ...     10.0     10.0     10.0\n",
              "44512       44512  44512  AL122005  ...     20.0     10.0     10.0\n",
              "44513       44513  44513  AL122005  ...     20.0     15.0     10.0\n",
              "44514       44514  44514  AL122005  ...     25.0     20.0     15.0\n",
              "44515       44515  44515  AL122005  ...     30.0     30.0     25.0\n",
              "44516       44516  44516  AL122005  ...     30.0     30.0     25.0\n",
              "44517       44517  44517  AL122005  ...     35.0     35.0     35.0\n",
              "44518       44518  44518  AL122005  ...     45.0     45.0     50.0\n",
              "44519       44519  44519  AL122005  ...     75.0     50.0     75.0\n",
              "44520       44520  44520  AL122005  ...     90.0     50.0     75.0\n",
              "44521       44521  44521  AL122005  ...     90.0     50.0     90.0\n",
              "44522       44522  44522  AL122005  ...     90.0     60.0     80.0\n",
              "44523       44523  44523  AL122005  ...     90.0     60.0     70.0\n",
              "44524       44524  44524  AL122005  ...      NaN      NaN      NaN\n",
              "44525       44525  44525  AL122005  ...     90.0     60.0     60.0\n",
              "44526       44526  44526  AL122005  ...      NaN      NaN      NaN\n",
              "44527       44527  44527  AL122005  ...     50.0     30.0     30.0\n",
              "44528       44528  44528  AL122005  ...      0.0      0.0      0.0\n",
              "44529       44529  44529  AL122005  ...      0.0      0.0      0.0\n",
              "44530       44530  44530  AL122005  ...      0.0      0.0      0.0\n",
              "44531       44531  44531  AL122005  ...      0.0      0.0      0.0\n",
              "44532       44532  44532  AL122005  ...      0.0      0.0      0.0\n",
              "44533       44533  44533  AL122005  ...      0.0      0.0      0.0\n",
              "\n",
              "[34 rows x 23 columns]"
            ]
          },
          "metadata": {
            "tags": []
          },
          "execution_count": 123
        }
      ]
    },
    {
      "cell_type": "markdown",
      "metadata": {
        "id": "YaEkjb1ldUFM"
      },
      "source": [
        "Here, we notice the text data to be sampled once every six hours because of which we will be forced to use interpolation techniques to find the velocity at any particular instant. \n",
        "\n",
        "Now determining the velocity at any time instance with this interpolated data is going to be deviated from the truth value, but we know that a class has a range of velocity so the probability that our interpolated class being correct is more realstic as compared to the former.\n"
      ]
    },
    {
      "cell_type": "markdown",
      "metadata": {
        "id": "8OaAu_PDdUFP"
      },
      "source": [
        "**We can observe, the images are taken once 30 minutes, but the text data is available once every 6 hours.  So we will be interpolating the text data to fit the curve**"
      ]
    },
    {
      "cell_type": "code",
      "metadata": {
        "id": "Wqu-J-7zdUFP",
        "colab": {
          "base_uri": "https://localhost:8080/"
        },
        "outputId": "a50db1fe-7673-4fde-d8d5-d6db59a97eed"
      },
      "source": [
        "#Get list of Dates and Velocity from the New Dataframe\n",
        "date_list = new_df['date'].tolist()\n",
        "velocity_list = new_df['maximum_sustained_wind_knots'].tolist()\n",
        "print(date_list[:5])\n",
        "type(date_list[0])"
      ],
      "execution_count": null,
      "outputs": [
        {
          "output_type": "stream",
          "text": [
            "['2005-08-23 18:00:00', '2005-08-24 00:00:00', '2005-08-24 06:00:00', '2005-08-24 12:00:00', '2005-08-24 18:00:00']\n"
          ],
          "name": "stdout"
        },
        {
          "output_type": "execute_result",
          "data": {
            "text/plain": [
              "str"
            ]
          },
          "metadata": {
            "tags": []
          },
          "execution_count": 124
        }
      ]
    },
    {
      "cell_type": "markdown",
      "metadata": {
        "id": "qigbGvyNdUFP"
      },
      "source": [
        "The Dates are in STR Format which we will be converting now to datetime format to work with."
      ]
    },
    {
      "cell_type": "code",
      "metadata": {
        "id": "yIUwqcu6dUFP",
        "colab": {
          "base_uri": "https://localhost:8080/"
        },
        "outputId": "676a713c-8a58-4fba-d5f7-783e8c464be9"
      },
      "source": [
        "from datetime import datetime\n",
        "# Get and Convert to Datetime format for the First Last recorded time of Text Data.\n",
        "first = (datetime.strptime(date_list[0], \"%Y-%m-%d %H:%M:%S\"))\n",
        "last = (datetime.strptime(date_list[-1], \"%Y-%m-%d %H:%M:%S\"))\n",
        "print(first)\n",
        "type(first)"
      ],
      "execution_count": null,
      "outputs": [
        {
          "output_type": "stream",
          "text": [
            "2005-08-23 18:00:00\n"
          ],
          "name": "stdout"
        },
        {
          "output_type": "execute_result",
          "data": {
            "text/plain": [
              "datetime.datetime"
            ]
          },
          "metadata": {
            "tags": []
          },
          "execution_count": 125
        }
      ]
    },
    {
      "cell_type": "code",
      "metadata": {
        "id": "t334WANVdUFP",
        "colab": {
          "base_uri": "https://localhost:8080/"
        },
        "outputId": "eed64ab9-7d48-4ab3-b0dc-73a6f2953180"
      },
      "source": [
        "#Changes the list from Convert everything to seconds from the first image to interpolate the data\n",
        "for i in range(len(date_list)):\n",
        "    date_list[i]=( (datetime.strptime(date_list[i], \"%Y-%m-%d %H:%M:%S\")) - first ).total_seconds()\n",
        "print(date_list)"
      ],
      "execution_count": null,
      "outputs": [
        {
          "output_type": "stream",
          "text": [
            "[0.0, 21600.0, 43200.0, 64800.0, 86400.0, 108000.0, 129600.0, 151200.0, 172800.0, 189000.0, 194400.0, 216000.0, 237600.0, 259200.0, 280800.0, 302400.0, 324000.0, 345600.0, 367200.0, 388800.0, 410400.0, 432000.0, 453600.0, 475200.0, 493800.0, 496800.0, 506700.0, 518400.0, 540000.0, 561600.0, 583200.0, 604800.0, 626400.0, 648000.0]\n"
          ],
          "name": "stdout"
        }
      ]
    },
    {
      "cell_type": "code",
      "metadata": {
        "id": "ddSSc0K9dUFQ"
      },
      "source": [
        "# Interpolate using the Scipy Library Funciton\n",
        "from scipy import interpolate\n",
        "func = interpolate.splrep(date_list,velocity_list)"
      ],
      "execution_count": null,
      "outputs": []
    },
    {
      "cell_type": "code",
      "metadata": {
        "id": "rqsD06P1dUFQ",
        "colab": {
          "base_uri": "https://localhost:8080/"
        },
        "outputId": "76140fa3-beaf-42ba-beb4-2728b00a4610"
      },
      "source": [
        "#Getting List of Katrina Images \n",
        "import os\n",
        "e = os.listdir('/content/gpubootcamp/tcdata/tcdat/tc05/ATL/12L.KATRINA/ir/geo/1km')\n",
        "# Sort images by time\n",
        "e.sort()\n",
        "x=[]\n",
        "y=[]\n",
        "for m in e :\n",
        "    try :\n",
        "        #Strip the Time Data from image and convert it the a datetime type.\n",
        "        time_img=(datetime.strptime(m[:13], \"%Y%m%d.%H%M\"))\n",
        "        # If the Image is taken between the available text data\n",
        "        if(time_img>=first and time_img <= last):\n",
        "            # Get Interpolated Value for that time and Save It \n",
        "            value = int(interpolate.splev((time_img-first).total_seconds(),func))\n",
        "            x.append((time_img-first).total_seconds())\n",
        "            y.append(value)\n",
        "    except :\n",
        "       pass \n",
        "print(\"Done\")"
      ],
      "execution_count": null,
      "outputs": [
        {
          "output_type": "stream",
          "text": [
            "Done\n"
          ],
          "name": "stdout"
        }
      ]
    },
    {
      "cell_type": "code",
      "metadata": {
        "id": "GT-B_R9bdUFQ",
        "colab": {
          "base_uri": "https://localhost:8080/",
          "height": 359
        },
        "outputId": "73e2ad2d-c039-4ac0-cd83-4b223cb5f792"
      },
      "source": [
        "import matplotlib.pyplot as plt\n",
        "# Plot All the Saved Data Points\n",
        "f = plt.figure(figsize=(24,10))\n",
        "ax = f.add_subplot(121)\n",
        "ax2 = f.add_subplot(122)\n",
        "ax.title.set_text('Datapoints frm csv file')\n",
        "ax2.title.set_text('Interpolated from CSV file to images')\n",
        "ax.plot(date_list,velocity_list,'-o')\n",
        "ax2.plot(x,y)"
      ],
      "execution_count": null,
      "outputs": [
        {
          "output_type": "execute_result",
          "data": {
            "text/plain": [
              "[<matplotlib.lines.Line2D at 0x7faa35e9af10>]"
            ]
          },
          "metadata": {
            "tags": []
          },
          "execution_count": 129
        },
        {
          "output_type": "display_data",
          "data": {
            "image/png": "[encoded data removed]",
            "text/plain": [
              "<Figure size 1728x720 with 2 Axes>"
            ]
          },
          "metadata": {
            "tags": [],
            "needs_background": "light"
          }
        }
      ]
    },
    {
      "cell_type": "markdown",
      "metadata": {
        "id": "oMLBaf69dUFQ"
      },
      "source": [
        "**Now we have interpolated and found relevant velocity for all images between the recorded text timeframe. Let us now use it for training our Model.**"
      ]
    },
    {
      "cell_type": "markdown",
      "metadata": {
        "id": "h9s-iptMdUFQ"
      },
      "source": [
        "# Wrapping Things Up :"
      ]
    },
    {
      "cell_type": "markdown",
      "metadata": {
        "id": "qKXh1ycRdUFQ"
      },
      "source": [
        "### Preparing the Dataset\n",
        "\n",
        "#####  All the above modules are joined together and make It into a single function to load data"
      ]
    },
    {
      "cell_type": "code",
      "metadata": {
        "id": "glcC1pW5dUFR",
        "colab": {
          "base_uri": "https://localhost:8080/"
        },
        "outputId": "2e0701b9-f816-41d3-8ee0-ce873dd0c5ec"
      },
      "source": [
        "def make_test_set(filenames,labels,val=0.1):\n",
        "    classes = 8\n",
        "    j=0\n",
        "    val_filenames=[]\n",
        "    val_labels=[]\n",
        "    new = [int(val*len(filenames)/classes)]*classes\n",
        "    print(new)\n",
        "    try:\n",
        "        for i in range(len(filenames)):\n",
        "            if(new[labels[i]]>0):\n",
        "                val_filenames.append(filenames[i])\n",
        "                val_labels.append(labels[i])\n",
        "                new[labels[i]] = new[labels[i]]-1\n",
        "                del filenames[i]\n",
        "                del labels[i]\n",
        "    except :\n",
        "        pass\n",
        "    \n",
        "     # Shuffle The Data\n",
        "    import random\n",
        "    # Zip Images with Appropriate Labels before Shuffling\n",
        "    c = list(zip(val_filenames, val_labels))\n",
        "    random.shuffle(c)\n",
        "    #Unzip the Data Post Shuffling\n",
        "    val_filenames, val_labels = zip(*c)\n",
        "    val_filenames = list(val_filenames)\n",
        "    val_labels = list(val_labels)\n",
        "    from collections import Counter\n",
        "    print(Counter(labels))\n",
        "    return val_filenames,val_labels  \n",
        "val_filenames , val_labels = make_test_set(filenames,labels,val=0.1)\n"
      ],
      "execution_count": null,
      "outputs": [
        {
          "output_type": "stream",
          "text": [
            "[344, 344, 344, 344, 344, 344, 344, 344]\n",
            "Counter({2: 7936, 3: 5339, 1: 3803, 4: 2934, 5: 2336, 6: 2178, 7: 204, 0: 100})\n"
          ],
          "name": "stdout"
        }
      ]
    },
    {
      "cell_type": "markdown",
      "metadata": {
        "id": "APD79N7idUFR"
      },
      "source": [
        "## Understand our dataset :\n",
        "\n",
        "We can see the following lines from the Output : \n",
        "\n",
        "`[344, 344, 344, 344, 344, 344, 344, 344]` and `{2: 7936, 3: 5339, 1: 3803, 4: 2934, 5: 2336, 6: 2178, 7: 204, 0: 100}`\n",
        "\n",
        "This is the distribution of our validation set and training set over it's classes. \n",
        "\n",
        "For the validation set we use *Stratified Validation* set so that our validation set nearly respresent the whole class. \n"
      ]
    },
    {
      "cell_type": "code",
      "metadata": {
        "id": "eDjrs8bhdUFR"
      },
      "source": [
        "#Make train test set\n",
        "test = 0.2\n",
        "from sklearn.model_selection import train_test_split\n",
        "x_train, x_test, y_train, y_test = train_test_split(filenames, labels, test_size=test, random_state=1)"
      ],
      "execution_count": null,
      "outputs": []
    },
    {
      "cell_type": "markdown",
      "metadata": {
        "id": "zpePWS5DdUFR"
      },
      "source": [
        "## One-Hot Encoding \n",
        "\n",
        "`y_train` is a list containing data from 0-7 such as [ 2,4,5,....] but our Model Needs an Input of Array for Each Output as as 1D vector  :\n",
        "\n",
        "2 --- > [ 0 , 0 , 1 , 0 , 0 , 0 , 0 , 0] \n",
        "\n",
        "4 --- > [ 0 , 0 , 0 , 0 , 1 , 0 , 0 , 0] \n",
        "\n",
        "\n",
        "This is encoded as such because keeping the other values 0 is necessary for the model to find the model Loss and use backpropagation for making it learn the _Weight Matrix_.\n",
        "\n",
        "The below given image is an example of One-Hot Encoding :\n",
        "\n",
        "![alt text](https://github.com/jrossthomson/gpubootcamp/blob/master/hpc_ai/ai_science_climate/English/python/jupyter_notebook/Tropical_Cyclone_Intensity_Estimation/images/one_hot.jfif?raw=1)\n",
        "\n",
        "Reference : [What is One Hot Encoding and How to Do It](https://medium.com/@michaeldelsole/what-is-one-hot-encoding-and-how-to-do-it-f0ae272f1179)"
      ]
    },
    {
      "cell_type": "code",
      "metadata": {
        "id": "gsPjnIRkdUFR"
      },
      "source": [
        "import tensorflow as tf\n",
        "y_train = tf.one_hot(y_train,depth=8)\n",
        "y_test = tf.one_hot(y_test,depth=8)\n",
        "val_labels = tf.one_hot(val_labels,depth=8)"
      ],
      "execution_count": null,
      "outputs": []
    },
    {
      "cell_type": "code",
      "metadata": {
        "id": "C7fXG3-ldUFR",
        "colab": {
          "base_uri": "https://localhost:8080/"
        },
        "outputId": "60a68450-ff10-40d9-860d-66c05da7e583"
      },
      "source": [
        "def parse_function(filename, label):\n",
        "    image_string = tf.io.read_file(filename)\n",
        "\n",
        "    #Don't use tf.image.decode_image, or the output shape will be undefined\n",
        "    image = tf.image.decode_jpeg(image_string, channels=3)\n",
        "\n",
        "    #This will convert to float values in [0, 1]\n",
        "    image = tf.image.convert_image_dtype(image, tf.float32)\n",
        "    #Resize Image \n",
        "    image = tf.image.resize(image, [232, 232])\n",
        "    \n",
        "    return image, label\n",
        "def make_dataset(train_in,test_in,val_in):\n",
        "    import tensorflow as tf\n",
        "    train = tf.data.Dataset.from_tensor_slices((train_in[0], train_in[1]))\n",
        "    train = train.shuffle(len(train_in[0]))\n",
        "    train = train.map(parse_function,num_parallel_calls=8)\n",
        "    train = train.batch(train_in[2])\n",
        "    train = train.prefetch(1)\n",
        "    test = tf.data.Dataset.from_tensor_slices((test_in[0], test_in[1]))\n",
        "    test = test.shuffle(len(test_in[0]))\n",
        "    test = test.map(parse_function, num_parallel_calls=8)\n",
        "    test = test.batch(test_in[2])\n",
        "    test = test.prefetch(1)\n",
        "    val = tf.data.Dataset.from_tensor_slices((val_in[0],val_in[1] ))\n",
        "    val = val.map(parse_function, num_parallel_calls=8)\n",
        "    val = val.batch(val_in[2])\n",
        "    val = val.prefetch(1)\n",
        "    return train,test,val\n",
        "\n",
        "train,test,val = make_dataset((x_train,y_train,128),(x_test,y_test,32),(val_filenames,val_labels,32))\n",
        "print(test)\n",
        "print(train)\n",
        "print(val)\n",
        "print(val_labels)"
      ],
      "execution_count": null,
      "outputs": [
        {
          "output_type": "stream",
          "text": [
            "<PrefetchDataset shapes: ((None, 232, 232, 3), (None, 8)), types: (tf.float32, tf.float32)>\n",
            "<PrefetchDataset shapes: ((None, 232, 232, 3), (None, 8)), types: (tf.float32, tf.float32)>\n",
            "<PrefetchDataset shapes: ((None, 232, 232, 3), (None, 8)), types: (tf.float32, tf.float32)>\n",
            "tf.Tensor(\n",
            "[[0. 0. 0. ... 0. 0. 1.]\n",
            " [0. 1. 0. ... 0. 0. 0.]\n",
            " [0. 0. 1. ... 0. 0. 0.]\n",
            " ...\n",
            " [0. 0. 0. ... 1. 0. 0.]\n",
            " [0. 0. 0. ... 1. 0. 0.]\n",
            " [0. 0. 0. ... 0. 0. 0.]], shape=(2752, 8), dtype=float32)\n"
          ],
          "name": "stdout"
        }
      ]
    },
    {
      "cell_type": "markdown",
      "metadata": {
        "id": "N6kJUwICdUFS"
      },
      "source": [
        "## Defining our Model\n",
        "\n",
        "![alt_text](https://github.com/jrossthomson/gpubootcamp/blob/master/hpc_ai/ai_science_climate/English/python/jupyter_notebook/Tropical_Cyclone_Intensity_Estimation/images/model.png?raw=1)\n",
        "\n",
        "We will be Implementing this model in Keras using the following code"
      ]
    },
    {
      "cell_type": "code",
      "metadata": {
        "id": "56VmRnxvdUFS",
        "colab": {
          "base_uri": "https://localhost:8080/"
        },
        "outputId": "d82d1e20-30a4-4a22-e601-312cdcd3f788"
      },
      "source": [
        "import numpy as np\n",
        "import os\n",
        "\n",
        "os.environ[\"CUDA_VISIBLE_DEVICES\"]=\"0\"\n",
        "tf.random.set_seed(1337)\n",
        "\n",
        "import tensorflow.keras\n",
        "from tensorflow.keras.models import Sequential\n",
        "from tensorflow.keras.layers import Dense, Conv2D, Flatten ,Dropout, MaxPooling2D\n",
        "from tensorflow.keras import backend as K \n",
        "\n",
        "#Reset Graphs and Create Sequential model\n",
        "K.clear_session()\n",
        "model = Sequential()\n",
        "#Convolution Layers\n",
        "\n",
        "model.add(Conv2D(64, kernel_size=10,strides=3, activation='relu', input_shape=(232,232,3)))\n",
        "model.add(MaxPooling2D(pool_size=(3, 3),strides=2))\n",
        "model.add(Conv2D(256, kernel_size=5,strides=1,activation='relu'))\n",
        "model.add(MaxPooling2D(pool_size=(3, 3),strides=2))\n",
        "model.add(Conv2D(288, kernel_size=3,strides=1,padding='same',activation='relu'))\n",
        "model.add(MaxPooling2D(pool_size=(2, 2),strides=1))\n",
        "model.add(Conv2D(272, kernel_size=3,strides=1,padding='same',activation='relu'))\n",
        "model.add(Conv2D(256, kernel_size=3,strides=1,activation='relu'))\n",
        "model.add(MaxPooling2D(pool_size=(3, 3),strides=2))\n",
        "model.add(Dropout(0.5))\n",
        "model.add(Flatten())\n",
        "\n",
        "#Linear Layers \n",
        "\n",
        "model.add(Dense(3584,activation='relu'))\n",
        "model.add(Dense(2048,activation='relu'))\n",
        "model.add(Dense(8, activation='softmax'))\n",
        "\n",
        "# Print Model Summary\n",
        "\n",
        "model.summary()"
      ],
      "execution_count": null,
      "outputs": [
        {
          "output_type": "stream",
          "text": [
            "Model: \"sequential\"\n",
            "_________________________________________________________________\n",
            "Layer (type)                 Output Shape              Param #   \n",
            "=================================================================\n",
            "conv2d (Conv2D)              (None, 75, 75, 64)        19264     \n",
            "_________________________________________________________________\n",
            "max_pooling2d (MaxPooling2D) (None, 37, 37, 64)        0         \n",
            "_________________________________________________________________\n",
            "conv2d_1 (Conv2D)            (None, 33, 33, 256)       409856    \n",
            "_________________________________________________________________\n",
            "max_pooling2d_1 (MaxPooling2 (None, 16, 16, 256)       0         \n",
            "_________________________________________________________________\n",
            "conv2d_2 (Conv2D)            (None, 16, 16, 288)       663840    \n",
            "_________________________________________________________________\n",
            "max_pooling2d_2 (MaxPooling2 (None, 15, 15, 288)       0         \n",
            "_________________________________________________________________\n",
            "conv2d_3 (Conv2D)            (None, 15, 15, 272)       705296    \n",
            "_________________________________________________________________\n",
            "conv2d_4 (Conv2D)            (None, 13, 13, 256)       626944    \n",
            "_________________________________________________________________\n",
            "max_pooling2d_3 (MaxPooling2 (None, 6, 6, 256)         0         \n",
            "_________________________________________________________________\n",
            "dropout (Dropout)            (None, 6, 6, 256)         0         \n",
            "_________________________________________________________________\n",
            "flatten (Flatten)            (None, 9216)              0         \n",
            "_________________________________________________________________\n",
            "dense (Dense)                (None, 3584)              33033728  \n",
            "_________________________________________________________________\n",
            "dense_1 (Dense)              (None, 2048)              7342080   \n",
            "_________________________________________________________________\n",
            "dense_2 (Dense)              (None, 8)                 16392     \n",
            "=================================================================\n",
            "Total params: 42,817,400\n",
            "Trainable params: 42,817,400\n",
            "Non-trainable params: 0\n",
            "_________________________________________________________________\n"
          ],
          "name": "stdout"
        }
      ]
    },
    {
      "cell_type": "markdown",
      "metadata": {
        "id": "ImITNvX3dUFS"
      },
      "source": [
        "### Compiling and Training our Model\n",
        "\n",
        "We will be using the following : \n",
        "\n",
        "- Optimizer : SGD ( Stochastic Gradient Descent ) with parameters mentioned in the research paper.\n",
        "    - Learning Rate : 0.001\n",
        "    - Momentum : 0.9\n",
        "- Loss Function : Categorical Cross Entropy ( Used in Multi-class classification ) \n",
        "- Metrics : We will be using two metrics to determine how our model performs \n",
        "    - Accuracy  : Number of Predictions correct / Total number of Predictions\n",
        "    - Top -2 Accuracy : Top-2 accuracy means that any of your model 2 highest probability answers must match the expected answer.\n"
      ]
    },
    {
      "cell_type": "code",
      "metadata": {
        "id": "cySKJFWCdUFS",
        "colab": {
          "base_uri": "https://localhost:8080/"
        },
        "outputId": "579d0125-b282-4c94-c58b-cdae2d7d89b1"
      },
      "source": [
        "import functools\n",
        "\n",
        "# Include Top-2 Accuracy Metrics \n",
        "top2_acc = functools.partial(tensorflow.keras.metrics.top_k_categorical_accuracy, k=2)\n",
        "top2_acc.__name__ = 'top2_acc'\n",
        "\n",
        "#Define Number of Epochs\n",
        "epochs = 4\n",
        "\n",
        "#But Training our model from scratch will take a long time\n",
        "#So we will load a partially trained model to speedup the process \n",
        "model.load_weights(\"trained_16.h5\")\n",
        "\n",
        "# Optimizer\n",
        "sgd = tensorflow.keras.optimizers.SGD(learning_rate=0.001, decay=1e-6, momentum=0.9)\n",
        "\n",
        "\n",
        "#Compile Model with Loss Function , Optimizer and Metrics\n",
        "model.compile(loss=tensorflow.keras.losses.categorical_crossentropy, \n",
        "              optimizer=sgd,\n",
        "              metrics=['accuracy',top2_acc])\n",
        "\n",
        "# Train the Model \n",
        "trained_model = model.fit(train,\n",
        "          epochs=epochs,\n",
        "          verbose=1,\n",
        "          validation_data=val)\n",
        "\n",
        "# Test Model Aganist Validation Set\n",
        "score = model.evaluate(test, verbose=0)\n",
        "print('Test loss:', score[0])\n",
        "print('Test accuracy:', score[1])"
      ],
      "execution_count": null,
      "outputs": [
        {
          "output_type": "stream",
          "text": [
            "Epoch 1/4\n",
            "156/156 [==============================] - 23s 145ms/step - loss: 0.5931 - accuracy: 0.7831 - top2_acc: 0.9240 - val_loss: 0.6936 - val_accuracy: 0.7515 - val_top2_acc: 0.9113\n",
            "Epoch 2/4\n",
            "156/156 [==============================] - 23s 148ms/step - loss: 0.5393 - accuracy: 0.8000 - top2_acc: 0.9353 - val_loss: 0.7338 - val_accuracy: 0.7504 - val_top2_acc: 0.9124\n",
            "Epoch 3/4\n",
            "156/156 [==============================] - 25s 161ms/step - loss: 0.4810 - accuracy: 0.8254 - top2_acc: 0.9488 - val_loss: 0.6014 - val_accuracy: 0.8085 - val_top2_acc: 0.9386\n",
            "Epoch 4/4\n",
            "156/156 [==============================] - 23s 147ms/step - loss: 0.4291 - accuracy: 0.8468 - top2_acc: 0.9551 - val_loss: 0.4963 - val_accuracy: 0.8180 - val_top2_acc: 0.9524\n",
            "Test loss: 0.2881021499633789\n",
            "Test accuracy: 0.9055578112602234\n"
          ],
          "name": "stdout"
        }
      ]
    },
    {
      "cell_type": "markdown",
      "metadata": {
        "id": "gHXeXdb6dUFS"
      },
      "source": [
        "### Visualisations\n",
        "\n",
        "Let us now visualise how our model perfromed during the training process : "
      ]
    },
    {
      "cell_type": "code",
      "metadata": {
        "id": "Xya9y-0ndUFS",
        "colab": {
          "base_uri": "https://localhost:8080/",
          "height": 300
        },
        "outputId": "c8d64e37-905c-4323-bada-5015c281b252"
      },
      "source": [
        "import matplotlib.pyplot as plt\n",
        "f = plt.figure(figsize=(15,5))\n",
        "ax = f.add_subplot(121)\n",
        "ax.plot(trained_model.history['accuracy'])\n",
        "ax.plot(trained_model.history['val_accuracy'])\n",
        "ax.set_title('Model Accuracy')\n",
        "ax.set_ylabel('Accuracy')\n",
        "ax.set_xlabel('Epoch')\n",
        "ax.legend(['Train', 'Val'])\n",
        "\n",
        "ax2 = f.add_subplot(122)\n",
        "ax2.plot(trained_model.history['loss'])\n",
        "ax2.plot(trained_model.history['val_loss'])\n",
        "ax2.set_title('Model Loss')\n",
        "ax2.set_ylabel('Loss')\n",
        "ax2.set_xlabel('Epoch')\n",
        "ax2.legend(['Train', 'Val'],loc= 'upper left')\n",
        "\n",
        "plt.show()"
      ],
      "execution_count": null,
      "outputs": [
        {
          "output_type": "display_data",
          "data": {
            "image/png": "[encoded data removed]",
            "text/plain": [
              "<Figure size 1080x360 with 2 Axes>"
            ]
          },
          "metadata": {
            "tags": [],
            "needs_background": "light"
          }
        }
      ]
    },
    {
      "cell_type": "markdown",
      "metadata": {
        "id": "5Fi9VqEudUFT"
      },
      "source": [
        "## Confusion Matrix :\n",
        "\n",
        "A confusion matrix is a table that is often used to describe the performance of a classification model (or \"classifier\") on a set of test data for which the true values are known. \n",
        "\n",
        "Here , the rows display the predicted class and the columns are the truth value of the classes.From this we can estimate how our model performs over different classes which would in turn help us determine how our data should be fed into our model.\n",
        "\n",
        "\n"
      ]
    },
    {
      "cell_type": "code",
      "metadata": {
        "scrolled": false,
        "id": "60VPWuWldUFT",
        "colab": {
          "base_uri": "https://localhost:8080/",
          "height": 829
        },
        "outputId": "cb76cb80-8ed9-4bc7-c53f-330fc604b0c6"
      },
      "source": [
        "import seaborn as sn\n",
        "from sklearn.metrics import confusion_matrix\n",
        "import pandas as pd\n",
        "\n",
        "#Plotting a heatmap using the confusion matrix\n",
        "pred = model.predict(val)\n",
        "p = np.argmax(pred, axis=1)\n",
        "y_valid = np.argmax(val_labels, axis=1, out=None)\n",
        "results = confusion_matrix(y_valid, p) \n",
        "classes=['NC','TD','TC','H1','H3','H3','H4','H5']\n",
        "df_cm = pd.DataFrame(results, index = [i for i in classes], columns = [i for i in classes])\n",
        "plt.figure(figsize = (15,15))\n",
        "\n",
        "sn.heatmap(df_cm, annot=True, cmap=\"Blues\")"
      ],
      "execution_count": null,
      "outputs": [
        {
          "output_type": "execute_result",
          "data": {
            "text/plain": [
              "<matplotlib.axes._subplots.AxesSubplot at 0x7faac00d6750>"
            ]
          },
          "metadata": {
            "tags": []
          },
          "execution_count": 141
        },
        {
          "output_type": "display_data",
          "data": {
            "image/png": "[encoded data removed]",
            "text/plain": [
              "<Figure size 1080x1080 with 2 Axes>"
            ]
          },
          "metadata": {
            "tags": [],
            "needs_background": "light"
          }
        }
      ]
    },
    {
      "cell_type": "markdown",
      "metadata": {
        "id": "-i5gKRBhdUFT"
      },
      "source": [
        "**Congralutions on running your first model. Now In the next notebook , let us try to understand the drawbacks of this model and make it better :**\n",
        "\n",
        "\n",
        "We can notice that the validation accuracy is lesser than the training accuracy. This is because the model is not properly Regularized and the possible reasons are : \n",
        "\n",
        "**Not enough data-points / Imbalanced classes**\n",
        "\n",
        "Using different techniques we will be regulating and normalising the model in the upcoming notebook.\n",
        "\n"
      ]
    },
    {
      "cell_type": "markdown",
      "metadata": {
        "id": "SjvHRsL6U-eV"
      },
      "source": [
        "\n",
        "\n",
        "---\n",
        "# PART 4\n"
      ]
    },
    {
      "cell_type": "markdown",
      "metadata": {
        "id": "Y603YJnmdUFU"
      },
      "source": [
        "# Understanding the drawbacks\n",
        "\n",
        "```python3\n",
        "Simply put, a machine learning model is only as good as the data it is fed with\n",
        "```\n",
        "We have achieved an accuracy nearly of ~85% running with 4 epochs. Now we will try to increase the accuracy by taking a closer look at the dataset and images. We can observe the following from our previous notebook : "
      ]
    },
    {
      "cell_type": "raw",
      "metadata": {
        "id": "zhnWEdbRdUFU"
      },
      "source": [
        "NC :441\n",
        "TD :4033\n",
        "TC :7948\n",
        "H1 :5340\n",
        "H2 :3150\n",
        "H3 :2441\n",
        "H4 :2114\n",
        "H5 :390"
      ]
    },
    {
      "cell_type": "markdown",
      "metadata": {
        "id": "5n6AYahWdUFU"
      },
      "source": [
        "First thing that we will notice from the category count is that the number of images per category is very un-uniform with ratios of TC: H5 **greater than 1:20**, This imbalance can bias the vision of our CNN model because predicting wrong on the minority class wouldn't impact the model a lot as the class contribution is less than 5% of the dataset.\n",
        "\n",
        "The same can be shown also by the heatmap we obtained in the previous notebook : Notice Most of Classes with higher data was predicted correctly and the minority class was more mis-predicted than the other classes \n",
        "![alt_text](https://github.com/jrossthomson/gpubootcamp/blob/master/hpc_ai/ai_science_climate/English/python/jupyter_notebook/Tropical_Cyclone_Intensity_Estimation/images/heatmap.png?raw=1)\n",
        "\n",
        "\n",
        "Let us see now how we solve that problem using data augmentation : "
      ]
    },
    {
      "cell_type": "markdown",
      "metadata": {
        "id": "Xx4Gn4vSdUFU"
      },
      "source": [
        "## Working out the solution\n",
        "\n",
        "## Data Augmentation \n",
        "\n",
        "To decrease the un-uniformity, we will be flipping and rotating images to compensate for the lack of data for class with less samples: \n",
        "\n",
        "![alt text](https://github.com/jrossthomson/gpubootcamp/blob/master/hpc_ai/ai_science_climate/English/python/jupyter_notebook/Tropical_Cyclone_Intensity_Estimation/images/augment.png?raw=1)\n",
        "\n",
        "\n",
        "We will be using OpenCV for Flipping and Image Rotations. \n",
        "\n",
        "``` python\n",
        "cv2.flip(img,0)\n",
        "cv2.flip(img,1)\n",
        "cv2.warpAffine(img, cv2.getRotationMatrix2D(center, 90, 1.0), (h, w))\n",
        "cv2.warpAffine(img, cv2.getRotationMatrix2D(center, 180, 1.0), (w, h))\n",
        "cv2.warpAffine(img, cv2.getRotationMatrix2D(center, 270, 1.0), (h, w))\n",
        "```\n",
        "\n",
        "There are other ways to counter data imbalance such as Class weightage, Oversampling, SMOTE etc.."
      ]
    },
    {
      "cell_type": "markdown",
      "metadata": {
        "id": "PeO6BeqQdUFU"
      },
      "source": [
        "# Training the Model with Data Augmentation \n",
        "\n",
        "\n",
        "We create a new function called `augmentation(name,category,filenames,labels,i)` and here we add more samples to Category which have imbalanced data.  "
      ]
    },
    {
      "cell_type": "code",
      "metadata": {
        "id": "hb22CXHt9RPq",
        "colab": {
          "base_uri": "https://localhost:8080/"
        },
        "outputId": "4f51aa14-3f77-44d3-f891-fca32f48c06d"
      },
      "source": [
        "import os\n",
        "file_path = \"/content/Dataset/Aug/\"\n",
        "directory = os.path.dirname(file_path)\n",
        "\n",
        "try:\n",
        "  os.mkdir(\"Dataset\")\n",
        "  os.mkdir(\"Dataset/Aug\")\n",
        "  print(\"Directory Created\")\n",
        "except:\n",
        "  print(\"Directory Exists\")"
      ],
      "execution_count": null,
      "outputs": [
        {
          "output_type": "stream",
          "text": [
            "Directory Created\n"
          ],
          "name": "stdout"
        }
      ]
    },
    {
      "cell_type": "code",
      "metadata": {
        "id": "ukzdZ7tpdUFV"
      },
      "source": [
        "import sys\n",
        "import cv2\n",
        "import os\n",
        "os.environ[\"CUDA_VISIBLE_DEVICES\"]=\"0\"\n",
        "\n",
        "def load_image(name,interpolation = cv2.INTER_AREA):\n",
        "    img=cv2.imread(name,1)\n",
        "    img = cv2.cvtColor(img, cv2.COLOR_BGR2RGB)\n",
        "    inter_area = cv2.resize(img,(256,256),interpolation=interpolation)\n",
        "    start_pt= np.random.randint(24,size=2)\n",
        "    end_pt = start_pt + [232,232]\n",
        "    img = inter_area[start_pt[0]:end_pt[0],start_pt[1]:end_pt[1]]\n",
        "    return img\n",
        "\n",
        "# Define the Augmentation Function \n",
        "def augmentation(name,category,filenames,labels,i):\n",
        "    # Important Constants\n",
        "    file_path = \"Dataset/Aug/\"\n",
        "    images = []\n",
        "    (h, w) = (232,232)\n",
        "    center = (w / 2, h / 2)\n",
        "    angle90 = 90\n",
        "    angle180 = 180\n",
        "    angle270 = 270\n",
        "    scale = 1.0\n",
        "    img = load_image(name , interpolation = cv2.INTER_LINEAR)\n",
        "    \n",
        "    \n",
        "    if category == 0 :\n",
        "        images.append(cv2.flip(img,0))\n",
        "    elif category == 1 :\n",
        "        pass\n",
        "    elif category == 2 :\n",
        "        pass\n",
        "    elif category == 3 :\n",
        "        pass\n",
        "    elif category == 4 :\n",
        "        pass\n",
        "    elif category == 5 :\n",
        "        pass\n",
        "    elif category == 6 :\n",
        "        pass\n",
        "    elif category == 7 :\n",
        "        images.append(cv2.flip(img,0))\n",
        "        \n",
        "        \n",
        "    for j in range(len(images)):\n",
        "        cv2.imwrite(file_path+str(i+j)+'.jpeg',images[j])\n",
        "        filenames.append(file_path+str(i+j)+'.jpeg')\n",
        "        labels.append(category)\n",
        "    i = i + len(images)\n",
        "    return i"
      ],
      "execution_count": null,
      "outputs": []
    },
    {
      "cell_type": "markdown",
      "metadata": {
        "id": "pisOynZQdUFV"
      },
      "source": [
        "**We pass this function to our `load_dataset()` function to generate these augmentations. **\n",
        "\n",
        "Kindly wait for a couple of minutes while augments the images."
      ]
    },
    {
      "cell_type": "code",
      "metadata": {
        "scrolled": true,
        "id": "6GTd6TPkdUFV",
        "colab": {
          "base_uri": "https://localhost:8080/"
        },
        "outputId": "85813d38-d53c-4cc6-99d9-15d504e3efca"
      },
      "source": [
        "filenames,labels = load_dataset(augment_fn = augmentation)"
      ],
      "execution_count": null,
      "outputs": [
        {
          "output_type": "stream",
          "text": [
            "07L.GORDON\n",
            "08L.HELENE\n",
            "27L.BETA\n",
            "05L.EMILY\n",
            "18L.RITA\n",
            "04L.DENNIS\n",
            "12L.KATRINA\n",
            "25L.WILMA\n",
            "07L.FRED\n",
            "03L.BILL\n",
            "01L.ALEX\n",
            "03L.CHARLEY\n",
            "09L.IVAN\n",
            "06L.FRANCES\n",
            "11L.JEANNE\n",
            "12L.KARL\n",
            "12L.KATIA\n",
            "16L.OPHELIA\n",
            "09L.IRENE\n",
            "04L.DEAN\n",
            "06L.FELIX\n",
            "15L.OMAR\n",
            "07L.GUSTAV\n",
            "09L.IKE\n",
            "02L.BERTHA\n",
            "06L.EDOUARD\n",
            "07L.EARL\n",
            "06L.DANIELLE\n",
            "12L.JULIA\n",
            "11L.IGOR\n",
            "13L.KARL\n",
            "13L.MICHAEL\n",
            "\n",
            "28574\n"
          ],
          "name": "stdout"
        }
      ]
    },
    {
      "cell_type": "code",
      "metadata": {
        "id": "mwuW1L11dUFV",
        "colab": {
          "base_uri": "https://localhost:8080/"
        },
        "outputId": "5dbd6509-d7c6-4590-b3aa-6e0eb5f7f0d8"
      },
      "source": [
        "# Set the Size of the Validation set\n",
        "val_filenames , val_labels = make_test_set(filenames,labels,val=0.1)"
      ],
      "execution_count": null,
      "outputs": [
        {
          "output_type": "stream",
          "text": [
            "[357, 357, 357, 357, 357, 357, 357, 357]\n",
            "Counter({2: 7923, 3: 5326, 1: 3790, 4: 2921, 5: 2323, 6: 2165, 7: 739, 0: 531})\n"
          ],
          "name": "stdout"
        }
      ]
    },
    {
      "cell_type": "code",
      "metadata": {
        "id": "JfBDWPiTdUFV"
      },
      "source": [
        "#Make train test set \n",
        "test = 0.1\n",
        "from sklearn.model_selection import train_test_split\n",
        "x_train, x_test, y_train, y_test = train_test_split(filenames, labels, test_size=test, random_state=1)"
      ],
      "execution_count": null,
      "outputs": []
    },
    {
      "cell_type": "code",
      "metadata": {
        "id": "XoHIXUrydUFW"
      },
      "source": [
        "import tensorflow as tf\n",
        "y_train = tf.one_hot(y_train,depth=8)\n",
        "y_test = tf.one_hot(y_test,depth=8)\n",
        "val_labels = tf.one_hot(val_labels,depth=8)"
      ],
      "execution_count": null,
      "outputs": []
    },
    {
      "cell_type": "code",
      "metadata": {
        "id": "h3UZeuODdUFW"
      },
      "source": [
        "# Make Dataset compatible with Tensorflow Data Pipelining.\n",
        "train,test,val = make_dataset((x_train,y_train,128),(x_test,y_test,32),(val_filenames,val_labels,32))"
      ],
      "execution_count": null,
      "outputs": []
    },
    {
      "cell_type": "markdown",
      "metadata": {
        "id": "jL8acrrQdUFW"
      },
      "source": [
        "# The model described in the paper :\n",
        "\n",
        "Now we will be using the model described in the paper to evaluate it's accuracy on the new dataset.\n",
        "\n",
        "![alt_text](https://github.com/jrossthomson/gpubootcamp/blob/master/hpc_ai/ai_science_climate/English/python/jupyter_notebook/Tropical_Cyclone_Intensity_Estimation/images/model.png?raw=1)"
      ]
    },
    {
      "cell_type": "code",
      "metadata": {
        "id": "w5fta4fYdUFW",
        "colab": {
          "base_uri": "https://localhost:8080/"
        },
        "outputId": "6c249e5d-45a0-4373-b5b1-cdf740bc785a"
      },
      "source": [
        "import numpy as np\n",
        "tf.random.set_seed(1337)\n",
        "\n",
        "import tensorflow.keras\n",
        "from tensorflow.keras.models import Sequential\n",
        "from tensorflow.keras.layers import Dense, Conv2D, Flatten ,Dropout, MaxPooling2D\n",
        "from tensorflow.keras import backend as K \n",
        "\n",
        "#Reset Graphs and Create Sequential model\n",
        "\n",
        "K.clear_session()\n",
        "model = Sequential()\n",
        "#Convolution Layers\n",
        "\n",
        "model.add(Conv2D(64, kernel_size=10,strides=3, activation='relu', input_shape=(232,232,3)))\n",
        "model.add(MaxPooling2D(pool_size=(3, 3),strides=2))\n",
        "model.add(Conv2D(256, kernel_size=5,strides=1,activation='relu'))\n",
        "model.add(MaxPooling2D(pool_size=(3, 3),strides=2))\n",
        "model.add(Conv2D(288, kernel_size=3,strides=1,padding='same',activation='relu'))\n",
        "model.add(MaxPooling2D(pool_size=(2, 2),strides=1))\n",
        "model.add(Conv2D(272, kernel_size=3,strides=1,padding='same',activation='relu'))\n",
        "model.add(Conv2D(256, kernel_size=3,strides=1,activation='relu'))\n",
        "model.add(MaxPooling2D(pool_size=(3, 3),strides=2))\n",
        "model.add(Dropout(0.5))\n",
        "model.add(Flatten())\n",
        "\n",
        "#Linear Layers \n",
        "\n",
        "model.add(Dense(3584,activation='relu'))\n",
        "model.add(Dense(2048,activation='relu'))\n",
        "model.add(Dense(8, activation='softmax'))\n",
        "\n",
        "# Print Model Summary\n",
        "\n",
        "model.summary()"
      ],
      "execution_count": null,
      "outputs": [
        {
          "output_type": "stream",
          "text": [
            "Model: \"sequential\"\n",
            "_________________________________________________________________\n",
            "Layer (type)                 Output Shape              Param #   \n",
            "=================================================================\n",
            "conv2d (Conv2D)              (None, 75, 75, 64)        19264     \n",
            "_________________________________________________________________\n",
            "max_pooling2d (MaxPooling2D) (None, 37, 37, 64)        0         \n",
            "_________________________________________________________________\n",
            "conv2d_1 (Conv2D)            (None, 33, 33, 256)       409856    \n",
            "_________________________________________________________________\n",
            "max_pooling2d_1 (MaxPooling2 (None, 16, 16, 256)       0         \n",
            "_________________________________________________________________\n",
            "conv2d_2 (Conv2D)            (None, 16, 16, 288)       663840    \n",
            "_________________________________________________________________\n",
            "max_pooling2d_2 (MaxPooling2 (None, 15, 15, 288)       0         \n",
            "_________________________________________________________________\n",
            "conv2d_3 (Conv2D)            (None, 15, 15, 272)       705296    \n",
            "_________________________________________________________________\n",
            "conv2d_4 (Conv2D)            (None, 13, 13, 256)       626944    \n",
            "_________________________________________________________________\n",
            "max_pooling2d_3 (MaxPooling2 (None, 6, 6, 256)         0         \n",
            "_________________________________________________________________\n",
            "dropout (Dropout)            (None, 6, 6, 256)         0         \n",
            "_________________________________________________________________\n",
            "flatten (Flatten)            (None, 9216)              0         \n",
            "_________________________________________________________________\n",
            "dense (Dense)                (None, 3584)              33033728  \n",
            "_________________________________________________________________\n",
            "dense_1 (Dense)              (None, 2048)              7342080   \n",
            "_________________________________________________________________\n",
            "dense_2 (Dense)              (None, 8)                 16392     \n",
            "=================================================================\n",
            "Total params: 42,817,400\n",
            "Trainable params: 42,817,400\n",
            "Non-trainable params: 0\n",
            "_________________________________________________________________\n"
          ],
          "name": "stdout"
        }
      ]
    },
    {
      "cell_type": "code",
      "metadata": {
        "id": "Ept8LelAdUFW",
        "colab": {
          "base_uri": "https://localhost:8080/"
        },
        "outputId": "4799960d-b67c-49dc-d5cd-a1aa3bbab841"
      },
      "source": [
        "import functools\n",
        "# Include Top-2 Accuracy Metrics \n",
        "top2_acc = functools.partial(tensorflow.keras.metrics.top_k_categorical_accuracy, k=2)\n",
        "top2_acc.__name__ = 'top2_acc'\n",
        "\n",
        "#Define Number of Epochs\n",
        "epochs = 4\n",
        "\n",
        "#But Training our model from scratch will take a long time\n",
        "#So we will load a partially trained model to speedup the process \n",
        "model.load_weights(\"trained_16.h5\")\n",
        "\n",
        "# Optimizer\n",
        "sgd = tensorflow.keras.optimizers.SGD(learning_rate=0.001, decay=1e-6, momentum=0.9)\n",
        "\n",
        "\n",
        "#Compile Model with Loss Function , Optimizer and Metrics\n",
        "model.compile(loss=tensorflow.keras.losses.categorical_crossentropy, \n",
        "              optimizer=sgd,\n",
        "              metrics=['accuracy',top2_acc])\n",
        "\n",
        "# Train the Model \n",
        "trained_model = model.fit(train,\n",
        "          epochs=epochs,\n",
        "          verbose=1,\n",
        "          validation_data=val)\n",
        "\n",
        "# Test Model Aganist Validation Set\n",
        "score = model.evaluate(test, verbose=0)\n",
        "print('Test loss:', score[0])\n",
        "print('Test accuracy:', score[1])\n"
      ],
      "execution_count": null,
      "outputs": [
        {
          "output_type": "stream",
          "text": [
            "Epoch 1/4\n",
            "181/181 [==============================] - 27s 146ms/step - loss: 0.6704 - accuracy: 0.7594 - top2_acc: 0.9089 - val_loss: 0.5330 - val_accuracy: 0.8165 - val_top2_acc: 0.9394\n",
            "Epoch 2/4\n",
            "181/181 [==============================] - 27s 148ms/step - loss: 0.5647 - accuracy: 0.7946 - top2_acc: 0.9308 - val_loss: 0.3922 - val_accuracy: 0.8708 - val_top2_acc: 0.9576\n",
            "Epoch 3/4\n",
            "181/181 [==============================] - 27s 150ms/step - loss: 0.4882 - accuracy: 0.8308 - top2_acc: 0.9435 - val_loss: 0.4313 - val_accuracy: 0.8536 - val_top2_acc: 0.9520\n",
            "Epoch 4/4\n",
            "181/181 [==============================] - 26s 144ms/step - loss: 0.4232 - accuracy: 0.8516 - top2_acc: 0.9566 - val_loss: 0.2874 - val_accuracy: 0.9020 - val_top2_acc: 0.9702\n",
            "Test loss: 0.258732408285141\n",
            "Test accuracy: 0.9082425832748413\n"
          ],
          "name": "stdout"
        }
      ]
    },
    {
      "cell_type": "markdown",
      "metadata": {
        "id": "oj5XoYJjdUFW"
      },
      "source": [
        "### Visualisations"
      ]
    },
    {
      "cell_type": "code",
      "metadata": {
        "id": "3g3igCSrdUFX",
        "colab": {
          "base_uri": "https://localhost:8080/",
          "height": 300
        },
        "outputId": "dbfc7351-51b3-4fea-91ac-e4ee21282834"
      },
      "source": [
        "import matplotlib.pyplot as plt\n",
        "f = plt.figure(figsize=(15,5))\n",
        "ax = f.add_subplot(121)\n",
        "ax.plot(trained_model.history['accuracy'])\n",
        "ax.plot(trained_model.history['val_accuracy'])\n",
        "ax.set_title('Model Accuracy')\n",
        "ax.set_ylabel('Accuracy')\n",
        "ax.set_xlabel('Epoch')\n",
        "ax.legend(['Train', 'Val'])\n",
        "\n",
        "ax2 = f.add_subplot(122)\n",
        "ax2.plot(trained_model.history['loss'])\n",
        "ax2.plot(trained_model.history['val_loss'])\n",
        "ax2.set_title('Model Loss')\n",
        "ax2.set_ylabel('Loss')\n",
        "ax2.set_xlabel('Epoch')\n",
        "ax2.legend(['Train', 'Val'],loc= 'upper left')\n",
        "\n",
        "plt.show()"
      ],
      "execution_count": null,
      "outputs": [
        {
          "output_type": "display_data",
          "data": {
            "image/png": "[encoded data removed]",
            "text/plain": [
              "<Figure size 1080x360 with 2 Axes>"
            ]
          },
          "metadata": {
            "tags": [],
            "needs_background": "light"
          }
        }
      ]
    },
    {
      "cell_type": "code",
      "metadata": {
        "id": "_pwfs3mKdUFX",
        "colab": {
          "base_uri": "https://localhost:8080/",
          "height": 829
        },
        "outputId": "c95bfeca-da0c-4c1b-a287-0f0868620d5e"
      },
      "source": [
        "import seaborn as sn\n",
        "from sklearn.metrics import confusion_matrix\n",
        "import pandas as pd\n",
        "\n",
        "#Plotting a heatmap using the confusion matrix\n",
        "\n",
        "pred = model.predict(val)\n",
        "p = np.argmax(pred, axis=1)\n",
        "y_valid = np.argmax(val_labels, axis=1, out=None)\n",
        "results = confusion_matrix(y_valid, p) \n",
        "classes=['NC','TD','TC','H1','H3','H3','H4','H5']\n",
        "df_cm = pd.DataFrame(results, index = [i for i in classes], columns = [i for i in classes])\n",
        "plt.figure(figsize = (15,15))\n",
        "\n",
        "sn.heatmap(df_cm, annot=True, cmap=\"Blues\")"
      ],
      "execution_count": null,
      "outputs": [
        {
          "output_type": "execute_result",
          "data": {
            "text/plain": [
              "<matplotlib.axes._subplots.AxesSubplot at 0x7faa6926d350>"
            ]
          },
          "metadata": {
            "tags": []
          },
          "execution_count": 153
        },
        {
          "output_type": "display_data",
          "data": {
            "image/png": "[encoded data removed]",
            "text/plain": [
              "<Figure size 1080x1080 with 2 Axes>"
            ]
          },
          "metadata": {
            "tags": [],
            "needs_background": "light"
          }
        }
      ]
    },
    {
      "cell_type": "markdown",
      "metadata": {
        "id": "GR_XpyZJdUFX"
      },
      "source": [
        "Let us now save our Model and the trained weights for future usage :"
      ]
    },
    {
      "cell_type": "code",
      "metadata": {
        "id": "ts090xDQdUFX"
      },
      "source": [
        "#Save Our Model \n",
        "model.save('cyc_pred.h5')"
      ],
      "execution_count": null,
      "outputs": []
    },
    {
      "cell_type": "markdown",
      "metadata": {
        "id": "xWLFqirEVNLQ"
      },
      "source": [
        "\n",
        "\n",
        "---\n",
        "# PART 5\n"
      ]
    },
    {
      "cell_type": "markdown",
      "metadata": {
        "id": "yGkA1IiBdUFY"
      },
      "source": [
        "<H1>Competition</H1>\n",
        "\n",
        "In this exercise participant need to tune and work on improving overall acuracy of our model. \n",
        "\n",
        "To help you get started by pointing out some obvious ways in which you can make the model more efficient. \n",
        "\n",
        "- Epochs  \n",
        "- Batch Size \n",
        "- Optimizers : We have used SGD as a optimizer. Participant can try applying other optimizer and test to obtain quick convergence.\n",
        "- Data Augmentation : Remember, we mentioned we have an imbalanced dataset. You could try differnet augmentation techniques for the minority classes.\n",
        "- Model : If you have exploited all the bbove methods to improve your model, you can change the model by adding more Layers to it and see if that improves that accuracy.\n",
        "\n",
        "Note, before you start tweaking and training your model ,it would be worthwhile to refer to these to see how they affect your model : \n",
        "\n",
        "[Epochs impact on Overfitting](https://datascience.stackexchange.com/questions/27561/can-the-number-of-epochs-influence-overfitting ) \n",
        "\n",
        "\n",
        "[Effect of Batch Size on Training Dynamics](https://medium.com/mini-distill/effect-of-batch-size-on-training-dynamics-21c14f7a716e)\n",
        "\n",
        "[Introduction to Optimizers](https://algorithmia.com/blog/introduction-to-optimizers)"
      ]
    }
  ]
}